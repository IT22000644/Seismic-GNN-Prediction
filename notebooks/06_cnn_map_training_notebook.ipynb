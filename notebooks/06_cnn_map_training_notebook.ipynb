{
  "cells": [
    {
      "cell_type": "markdown",
      "metadata": {},
      "source": [
        "# CNN Per‑Cell Magnitude Map — Seismic GNN Project"
      ]
    },
    {
      "cell_type": "markdown",
      "metadata": {},
      "source": [
        "**Objective.** Learn a per‑cell magnitude map for the next time horizon from a 50×50 density grid of recent events.\n",
        "\n",
        "**Spec.**\n",
        "- **Input:** 50×50×1 density grid built from the last `LOOKBACK` events (with optional time‑decay; log1p transform).\n",
        "- **Output:** 50×50×1 map where each cell is the **max magnitude** expected in the next `HORIZON_HOURS` hours.\n",
        "- **Model:** Fully‑convolutional CNN (no flatten), 1×1 conv head → per‑cell regression using Huber loss.\n",
        "- **Metrics:** MAE, RMSE (global, over all cells). Also parity plot, residuals, and qualitative true/pred maps."
      ]
    },
    {
      "cell_type": "markdown",
      "metadata": {},
      "source": [
        "### Setup"
      ]
    },
    {
      "cell_type": "code",
      "execution_count": 1,
      "id": "8d0ff269",
      "metadata": {},
      "outputs": [
        {
          "name": "stdout",
          "output_type": "stream",
          "text": [
            "Repository root: D:\\_4TH_YEAR_1ST_SEMESTER_STUFF\\DL\\DL Final Assignment\\Seismic-GNN-Prediction\n",
            "TensorFlow version: 2.17.1\n",
            "NumPy version: 1.26.4\n",
            "'src' directory found: True\n",
            "No GPU detected by TensorFlow — training will run on CPU.\n"
          ]
        }
      ],
      "source": [
        "\n",
        "# Imports & repository path setup\n",
        "import os\n",
        "import sys\n",
        "import json\n",
        "import datetime as dt\n",
        "from pathlib import Path\n",
        "\n",
        "import numpy as np\n",
        "import matplotlib.pyplot as plt\n",
        "import tensorflow as tf\n",
        "\n",
        "NOTEBOOK_DIR: Path = Path().resolve()\n",
        "\n",
        "REPO_ROOT: Path = NOTEBOOK_DIR if (NOTEBOOK_DIR / \"src\").exists() else NOTEBOOK_DIR.parent\n",
        "\n",
        "if str(REPO_ROOT) not in sys.path:\n",
        "    sys.path.insert(0, str(REPO_ROOT))\n",
        "\n",
        "# Printing Repository Root and Library Versions\n",
        "\n",
        "print(\"Repository root:\", REPO_ROOT)\n",
        "print(\"TensorFlow version:\", tf.__version__)\n",
        "print(\"NumPy version:\", np.__version__)\n",
        "\n",
        "# Sanity checks\n",
        "src_exists = (REPO_ROOT / \"src\").exists()\n",
        "print(\"'src' directory found:\", src_exists)\n",
        "if not src_exists:\n",
        "    print(\"Could not find a 'src' directory at:\", REPO_ROOT / \"src\")\n",
        "\n",
        "# Testing whether TensorFlow can see a GPU\n",
        "gpus = tf.config.list_physical_devices(\"GPU\")\n",
        "if gpus:\n",
        "    print(f\"GPU detected ({len(gpus)}):\", [g.name for g in gpus])\n",
        "else:\n",
        "    print(\"No GPU detected by TensorFlow — training will run on CPU.\")\n"
      ]
    },
    {
      "cell_type": "markdown",
      "id": "0824da71",
      "metadata": {},
      "source": [
        "### Configuration"
      ]
    },
    {
      "cell_type": "code",
      "execution_count": 2,
      "id": "2a4dbd8f",
      "metadata": {},
      "outputs": [
        {
          "name": "stdout",
          "output_type": "stream",
          "text": [
            "GRID_SIZE        = 50\n",
            "LOOKBACK         = 50\n",
            "HORIZON_HOURS    = 72\n",
            "LOG1P_INPUT      = True\n",
            "TIME_DECAY       = 0.0\n",
            "TRAIN_FRAC       = 0.7\n",
            "VAL_FRAC         = 0.15\n",
            "TEST_FRAC        = 0.15\n",
            "SEED             = 42\n",
            "BATCH_SIZE       = 64\n",
            "EPOCHS           = 100\n",
            "LR               = 0.001\n",
            "WEIGHT_DECAY     = 0.0001\n",
            "DROPOUT          = 0.1\n",
            "USE_MIXED_PRECISION = True\n",
            "FALLBACK_DATA    = D:\\_4TH_YEAR_1ST_SEMESTER_STUFF\\DL\\DL Final Assignment\\Seismic-GNN-Prediction\\data\\interim\\quakes_clean.csv\n",
            "ARTIFACTS        = D:\\_4TH_YEAR_1ST_SEMESTER_STUFF\\DL\\DL Final Assignment\\Seismic-GNN-Prediction\\artifacts\\cnn\\map\n"
          ]
        }
      ],
      "source": [
        "# Preview key runtime config values\n",
        "from src.config import runtime as C\n",
        "\n",
        "keys = [\n",
        "    \"GRID_SIZE\",\"LOOKBACK\",\"HORIZON_HOURS\",\"LOG1P_INPUT\",\"TIME_DECAY\",\n",
        "    \"TRAIN_FRAC\",\"VAL_FRAC\",\"TEST_FRAC\",\"SEED\",\n",
        "    \"BATCH_SIZE\",\"EPOCHS\",\"LR\",\"WEIGHT_DECAY\",\"DROPOUT\",\"USE_MIXED_PRECISION\",\n",
        "    \"FALLBACK_DATA\",\"ARTIFACTS\"\n",
        "]\n",
        "\n",
        "for k in keys:\n",
        "    print(f\"{k:16s} =\", getattr(C, k))"
      ]
    },
    {
      "cell_type": "markdown",
      "id": "a5ce3e35",
      "metadata": {},
      "source": [
        "### Data"
      ]
    },
    {
      "cell_type": "markdown",
      "id": "e06a25cc",
      "metadata": {},
      "source": [
        "#### Load data and preview a sample"
      ]
    },
    {
      "cell_type": "code",
      "execution_count": 4,
      "id": "98c8147b",
      "metadata": {},
      "outputs": [
        {
          "name": "stdout",
          "output_type": "stream",
          "text": [
            "Shapes:\n",
            "  X_train: (1159, 50, 50, 1)  y_train: (1159, 50, 50, 1)\n",
            "  X_val:   (248, 50, 50, 1)  y_val:   (248, 50, 50, 1)\n",
            "  X_test:  (249, 50, 50, 1)  y_test:  (249, 50, 50, 1)\n",
            "X min/max: 0.0 3.6888794898986816\n",
            "y min/max: 0.0 7.099999904632568\n"
          ]
        }
      ],
      "source": [
        "from src.data.loading import load_data_map\n",
        "\n",
        "X_train, y_train, X_val, y_val, X_test, y_test = load_data_map()\n",
        "print(\"Shapes:\")\n",
        "print(\"  X_train:\", X_train.shape, \" y_train:\", y_train.shape)\n",
        "print(\"  X_val:  \", X_val.shape,   \" y_val:  \", y_val.shape)\n",
        "print(\"  X_test: \", X_test.shape,  \" y_test: \", y_test.shape)\n",
        "\n",
        "# Sanity Checks: Value Ranges\n",
        "\n",
        "print(\"X min/max:\", float(X_train.min()), float(X_train.max()))\n",
        "print(\"y min/max:\", float(y_train.min()), float(y_train.max()))"
      ]
    },
    {
      "cell_type": "code",
      "execution_count": 5,
      "id": "5781cfa9",
      "metadata": {},
      "outputs": [
        {
          "data": {
            "image/png": "[encoded data removed]",
            "text/plain": [
              "<Figure size 800x400 with 2 Axes>"
            ]
          },
          "metadata": {},
          "output_type": "display_data"
        }
      ],
      "source": [
        "# Training Example Visualization (input density vs target magnitude map)\n",
        "idx = 0\n",
        "fig, axs = plt.subplots(1, 2, figsize=(8,4))\n",
        "axs[0].imshow(X_train[idx, ..., 0]); axs[0].set_title(\"Input density (log1p)\")\n",
        "axs[1].imshow(y_train[idx, ..., 0]); axs[1].set_title(\"Target max-magnitude (next horizon)\")\n",
        "for a in axs: a.axis(\"off\")\n",
        "plt.tight_layout(); plt.show()"
      ]
    },
    {
      "cell_type": "markdown",
      "id": "6bdbfdee",
      "metadata": {},
      "source": [
        "### Model"
      ]
    },
    {
      "cell_type": "markdown",
      "id": "bf2776e4",
      "metadata": {},
      "source": [
        "#### Build CNN + Summary"
      ]
    },
    {
      "cell_type": "code",
      "execution_count": 6,
      "id": "e0015268",
      "metadata": {},
      "outputs": [
        {
          "data": {
            "text/html": [
              "<pre style=\"white-space:pre;overflow-x:auto;line-height:normal;font-family:Menlo,'DejaVu Sans Mono',consolas,'Courier New',monospace\"><span style=\"font-weight: bold\">Model: \"functional\"</span>\n",
              "</pre>\n"
            ],
            "text/plain": [
              "\u001b[1mModel: \"functional\"\u001b[0m\n"
            ]
          },
          "metadata": {},
          "output_type": "display_data"
        },
        {
          "data": {
            "text/html": [
              "<pre style=\"white-space:pre;overflow-x:auto;line-height:normal;font-family:Menlo,'DejaVu Sans Mono',consolas,'Courier New',monospace\">┏━━━━━━━━━━━━━━━━━━━━━━━━━━━━━━━━━┳━━━━━━━━━━━━━━━━━━━━━━━━┳━━━━━━━━━━━━━━━┓\n",
              "┃<span style=\"font-weight: bold\"> Layer (type)                    </span>┃<span style=\"font-weight: bold\"> Output Shape           </span>┃<span style=\"font-weight: bold\">       Param # </span>┃\n",
              "┡━━━━━━━━━━━━━━━━━━━━━━━━━━━━━━━━━╇━━━━━━━━━━━━━━━━━━━━━━━━╇━━━━━━━━━━━━━━━┩\n",
              "│ input_layer (<span style=\"color: #0087ff; text-decoration-color: #0087ff\">InputLayer</span>)        │ (<span style=\"color: #00d7ff; text-decoration-color: #00d7ff\">None</span>, <span style=\"color: #00af00; text-decoration-color: #00af00\">50</span>, <span style=\"color: #00af00; text-decoration-color: #00af00\">50</span>, <span style=\"color: #00af00; text-decoration-color: #00af00\">1</span>)      │             <span style=\"color: #00af00; text-decoration-color: #00af00\">0</span> │\n",
              "├─────────────────────────────────┼────────────────────────┼───────────────┤\n",
              "│ conv2d (<span style=\"color: #0087ff; text-decoration-color: #0087ff\">Conv2D</span>)                 │ (<span style=\"color: #00d7ff; text-decoration-color: #00d7ff\">None</span>, <span style=\"color: #00af00; text-decoration-color: #00af00\">50</span>, <span style=\"color: #00af00; text-decoration-color: #00af00\">50</span>, <span style=\"color: #00af00; text-decoration-color: #00af00\">32</span>)     │           <span style=\"color: #00af00; text-decoration-color: #00af00\">320</span> │\n",
              "├─────────────────────────────────┼────────────────────────┼───────────────┤\n",
              "│ conv2d_1 (<span style=\"color: #0087ff; text-decoration-color: #0087ff\">Conv2D</span>)               │ (<span style=\"color: #00d7ff; text-decoration-color: #00d7ff\">None</span>, <span style=\"color: #00af00; text-decoration-color: #00af00\">50</span>, <span style=\"color: #00af00; text-decoration-color: #00af00\">50</span>, <span style=\"color: #00af00; text-decoration-color: #00af00\">32</span>)     │         <span style=\"color: #00af00; text-decoration-color: #00af00\">9,248</span> │\n",
              "├─────────────────────────────────┼────────────────────────┼───────────────┤\n",
              "│ spatial_dropout2d               │ (<span style=\"color: #00d7ff; text-decoration-color: #00d7ff\">None</span>, <span style=\"color: #00af00; text-decoration-color: #00af00\">50</span>, <span style=\"color: #00af00; text-decoration-color: #00af00\">50</span>, <span style=\"color: #00af00; text-decoration-color: #00af00\">32</span>)     │             <span style=\"color: #00af00; text-decoration-color: #00af00\">0</span> │\n",
              "│ (<span style=\"color: #0087ff; text-decoration-color: #0087ff\">SpatialDropout2D</span>)              │                        │               │\n",
              "├─────────────────────────────────┼────────────────────────┼───────────────┤\n",
              "│ conv2d_2 (<span style=\"color: #0087ff; text-decoration-color: #0087ff\">Conv2D</span>)               │ (<span style=\"color: #00d7ff; text-decoration-color: #00d7ff\">None</span>, <span style=\"color: #00af00; text-decoration-color: #00af00\">50</span>, <span style=\"color: #00af00; text-decoration-color: #00af00\">50</span>, <span style=\"color: #00af00; text-decoration-color: #00af00\">64</span>)     │        <span style=\"color: #00af00; text-decoration-color: #00af00\">18,496</span> │\n",
              "├─────────────────────────────────┼────────────────────────┼───────────────┤\n",
              "│ conv2d_3 (<span style=\"color: #0087ff; text-decoration-color: #0087ff\">Conv2D</span>)               │ (<span style=\"color: #00d7ff; text-decoration-color: #00d7ff\">None</span>, <span style=\"color: #00af00; text-decoration-color: #00af00\">50</span>, <span style=\"color: #00af00; text-decoration-color: #00af00\">50</span>, <span style=\"color: #00af00; text-decoration-color: #00af00\">64</span>)     │        <span style=\"color: #00af00; text-decoration-color: #00af00\">36,928</span> │\n",
              "├─────────────────────────────────┼────────────────────────┼───────────────┤\n",
              "│ conv2d_4 (<span style=\"color: #0087ff; text-decoration-color: #0087ff\">Conv2D</span>)               │ (<span style=\"color: #00d7ff; text-decoration-color: #00d7ff\">None</span>, <span style=\"color: #00af00; text-decoration-color: #00af00\">50</span>, <span style=\"color: #00af00; text-decoration-color: #00af00\">50</span>, <span style=\"color: #00af00; text-decoration-color: #00af00\">1</span>)      │            <span style=\"color: #00af00; text-decoration-color: #00af00\">65</span> │\n",
              "└─────────────────────────────────┴────────────────────────┴───────────────┘\n",
              "</pre>\n"
            ],
            "text/plain": [
              "┏━━━━━━━━━━━━━━━━━━━━━━━━━━━━━━━━━┳━━━━━━━━━━━━━━━━━━━━━━━━┳━━━━━━━━━━━━━━━┓\n",
              "┃\u001b[1m \u001b[0m\u001b[1mLayer (type)                   \u001b[0m\u001b[1m \u001b[0m┃\u001b[1m \u001b[0m\u001b[1mOutput Shape          \u001b[0m\u001b[1m \u001b[0m┃\u001b[1m \u001b[0m\u001b[1m      Param #\u001b[0m\u001b[1m \u001b[0m┃\n",
              "┡━━━━━━━━━━━━━━━━━━━━━━━━━━━━━━━━━╇━━━━━━━━━━━━━━━━━━━━━━━━╇━━━━━━━━━━━━━━━┩\n",
              "│ input_layer (\u001b[38;5;33mInputLayer\u001b[0m)        │ (\u001b[38;5;45mNone\u001b[0m, \u001b[38;5;34m50\u001b[0m, \u001b[38;5;34m50\u001b[0m, \u001b[38;5;34m1\u001b[0m)      │             \u001b[38;5;34m0\u001b[0m │\n",
              "├─────────────────────────────────┼────────────────────────┼───────────────┤\n",
              "│ conv2d (\u001b[38;5;33mConv2D\u001b[0m)                 │ (\u001b[38;5;45mNone\u001b[0m, \u001b[38;5;34m50\u001b[0m, \u001b[38;5;34m50\u001b[0m, \u001b[38;5;34m32\u001b[0m)     │           \u001b[38;5;34m320\u001b[0m │\n",
              "├─────────────────────────────────┼────────────────────────┼───────────────┤\n",
              "│ conv2d_1 (\u001b[38;5;33mConv2D\u001b[0m)               │ (\u001b[38;5;45mNone\u001b[0m, \u001b[38;5;34m50\u001b[0m, \u001b[38;5;34m50\u001b[0m, \u001b[38;5;34m32\u001b[0m)     │         \u001b[38;5;34m9,248\u001b[0m │\n",
              "├─────────────────────────────────┼────────────────────────┼───────────────┤\n",
              "│ spatial_dropout2d               │ (\u001b[38;5;45mNone\u001b[0m, \u001b[38;5;34m50\u001b[0m, \u001b[38;5;34m50\u001b[0m, \u001b[38;5;34m32\u001b[0m)     │             \u001b[38;5;34m0\u001b[0m │\n",
              "│ (\u001b[38;5;33mSpatialDropout2D\u001b[0m)              │                        │               │\n",
              "├─────────────────────────────────┼────────────────────────┼───────────────┤\n",
              "│ conv2d_2 (\u001b[38;5;33mConv2D\u001b[0m)               │ (\u001b[38;5;45mNone\u001b[0m, \u001b[38;5;34m50\u001b[0m, \u001b[38;5;34m50\u001b[0m, \u001b[38;5;34m64\u001b[0m)     │        \u001b[38;5;34m18,496\u001b[0m │\n",
              "├─────────────────────────────────┼────────────────────────┼───────────────┤\n",
              "│ conv2d_3 (\u001b[38;5;33mConv2D\u001b[0m)               │ (\u001b[38;5;45mNone\u001b[0m, \u001b[38;5;34m50\u001b[0m, \u001b[38;5;34m50\u001b[0m, \u001b[38;5;34m64\u001b[0m)     │        \u001b[38;5;34m36,928\u001b[0m │\n",
              "├─────────────────────────────────┼────────────────────────┼───────────────┤\n",
              "│ conv2d_4 (\u001b[38;5;33mConv2D\u001b[0m)               │ (\u001b[38;5;45mNone\u001b[0m, \u001b[38;5;34m50\u001b[0m, \u001b[38;5;34m50\u001b[0m, \u001b[38;5;34m1\u001b[0m)      │            \u001b[38;5;34m65\u001b[0m │\n",
              "└─────────────────────────────────┴────────────────────────┴───────────────┘\n"
            ]
          },
          "metadata": {},
          "output_type": "display_data"
        },
        {
          "data": {
            "text/html": [
              "<pre style=\"white-space:pre;overflow-x:auto;line-height:normal;font-family:Menlo,'DejaVu Sans Mono',consolas,'Courier New',monospace\"><span style=\"font-weight: bold\"> Total params: </span><span style=\"color: #00af00; text-decoration-color: #00af00\">65,057</span> (254.13 KB)\n",
              "</pre>\n"
            ],
            "text/plain": [
              "\u001b[1m Total params: \u001b[0m\u001b[38;5;34m65,057\u001b[0m (254.13 KB)\n"
            ]
          },
          "metadata": {},
          "output_type": "display_data"
        },
        {
          "data": {
            "text/html": [
              "<pre style=\"white-space:pre;overflow-x:auto;line-height:normal;font-family:Menlo,'DejaVu Sans Mono',consolas,'Courier New',monospace\"><span style=\"font-weight: bold\"> Trainable params: </span><span style=\"color: #00af00; text-decoration-color: #00af00\">65,057</span> (254.13 KB)\n",
              "</pre>\n"
            ],
            "text/plain": [
              "\u001b[1m Trainable params: \u001b[0m\u001b[38;5;34m65,057\u001b[0m (254.13 KB)\n"
            ]
          },
          "metadata": {},
          "output_type": "display_data"
        },
        {
          "data": {
            "text/html": [
              "<pre style=\"white-space:pre;overflow-x:auto;line-height:normal;font-family:Menlo,'DejaVu Sans Mono',consolas,'Courier New',monospace\"><span style=\"font-weight: bold\"> Non-trainable params: </span><span style=\"color: #00af00; text-decoration-color: #00af00\">0</span> (0.00 B)\n",
              "</pre>\n"
            ],
            "text/plain": [
              "\u001b[1m Non-trainable params: \u001b[0m\u001b[38;5;34m0\u001b[0m (0.00 B)\n"
            ]
          },
          "metadata": {},
          "output_type": "display_data"
        }
      ],
      "source": [
        "from src.models.cnn.map_regressor import build_cnn_map\n",
        "\n",
        "if C.USE_MIXED_PRECISION:\n",
        "    tf.keras.mixed_precision.set_global_policy(\"mixed_float16\")\n",
        "\n",
        "model = build_cnn_map(input_shape=X_train.shape[1:], lr=C.LR, wd=C.WEIGHT_DECAY, dropout=C.DROPOUT)\n",
        "model.summary()"
      ]
    },
    {
      "cell_type": "markdown",
      "id": "cf8f6c5e",
      "metadata": {},
      "source": [
        "### Training the CNN Model"
      ]
    },
    {
      "cell_type": "code",
      "execution_count": 14,
      "id": "7a77d166",
      "metadata": {},
      "outputs": [
        {
          "name": "stdout",
          "output_type": "stream",
          "text": [
            "Epoch 1/100\n",
            "\u001b[1m19/19\u001b[0m \u001b[32m━━━━━━━━━━━━━━━━━━━━\u001b[0m\u001b[37m\u001b[0m \u001b[1m178s\u001b[0m 9s/step - loss: 0.0021 - mae: 0.0073 - rmse: 0.1290 - val_loss: 6.2386e-04 - val_mae: 0.0034 - val_rmse: 0.0636 - learning_rate: 0.0010\n",
            "Epoch 2/100\n",
            "\u001b[1m19/19\u001b[0m \u001b[32m━━━━━━━━━━━━━━━━━━━━\u001b[0m\u001b[37m\u001b[0m \u001b[1m185s\u001b[0m 10s/step - loss: 0.0020 - mae: 0.0053 - rmse: 0.1214 - val_loss: 7.1104e-04 - val_mae: 0.0027 - val_rmse: 0.0646 - learning_rate: 0.0010\n",
            "Epoch 3/100\n",
            "\u001b[1m19/19\u001b[0m \u001b[32m━━━━━━━━━━━━━━━━━━━━\u001b[0m\u001b[37m\u001b[0m \u001b[1m182s\u001b[0m 10s/step - loss: 0.0018 - mae: 0.0052 - rmse: 0.1066 - val_loss: 6.1827e-04 - val_mae: 0.0025 - val_rmse: 0.0647 - learning_rate: 0.0010\n",
            "Epoch 4/100\n",
            "\u001b[1m19/19\u001b[0m \u001b[32m━━━━━━━━━━━━━━━━━━━━\u001b[0m\u001b[37m\u001b[0m \u001b[1m182s\u001b[0m 10s/step - loss: 0.0014 - mae: 0.0043 - rmse: 0.0961 - val_loss: 5.7338e-04 - val_mae: 0.0024 - val_rmse: 0.0644 - learning_rate: 0.0010\n",
            "Epoch 5/100\n",
            "\u001b[1m19/19\u001b[0m \u001b[32m━━━━━━━━━━━━━━━━━━━━\u001b[0m\u001b[37m\u001b[0m \u001b[1m184s\u001b[0m 10s/step - loss: 0.0012 - mae: 0.0041 - rmse: 0.0878 - val_loss: 5.5561e-04 - val_mae: 0.0021 - val_rmse: 0.0643 - learning_rate: 0.0010\n",
            "Epoch 6/100\n",
            "\u001b[1m19/19\u001b[0m \u001b[32m━━━━━━━━━━━━━━━━━━━━\u001b[0m\u001b[37m\u001b[0m \u001b[1m192s\u001b[0m 10s/step - loss: 0.0011 - mae: 0.0036 - rmse: 0.0841 - val_loss: 6.4989e-04 - val_mae: 0.0023 - val_rmse: 0.0666 - learning_rate: 0.0010\n",
            "Epoch 7/100\n",
            "\u001b[1m19/19\u001b[0m \u001b[32m━━━━━━━━━━━━━━━━━━━━\u001b[0m\u001b[37m\u001b[0m \u001b[1m181s\u001b[0m 10s/step - loss: 0.0011 - mae: 0.0041 - rmse: 0.0842 - val_loss: 5.3806e-04 - val_mae: 0.0018 - val_rmse: 0.0641 - learning_rate: 0.0010\n",
            "Epoch 8/100\n",
            "\u001b[1m19/19\u001b[0m \u001b[32m━━━━━━━━━━━━━━━━━━━━\u001b[0m\u001b[37m\u001b[0m \u001b[1m183s\u001b[0m 10s/step - loss: 0.0011 - mae: 0.0037 - rmse: 0.0826 - val_loss: 5.6142e-04 - val_mae: 0.0021 - val_rmse: 0.0646 - learning_rate: 0.0010\n",
            "Epoch 9/100\n",
            "\u001b[1m19/19\u001b[0m \u001b[32m━━━━━━━━━━━━━━━━━━━━\u001b[0m\u001b[37m\u001b[0m \u001b[1m187s\u001b[0m 10s/step - loss: 0.0010 - mae: 0.0029 - rmse: 0.0805 - val_loss: 5.6221e-04 - val_mae: 0.0020 - val_rmse: 0.0648 - learning_rate: 0.0010\n",
            "Epoch 10/100\n",
            "\u001b[1m19/19\u001b[0m \u001b[32m━━━━━━━━━━━━━━━━━━━━\u001b[0m\u001b[37m\u001b[0m \u001b[1m183s\u001b[0m 10s/step - loss: 9.7294e-04 - mae: 0.0028 - rmse: 0.0796 - val_loss: 5.8551e-04 - val_mae: 0.0016 - val_rmse: 0.0655 - learning_rate: 0.0010\n",
            "Epoch 11/100\n",
            "\u001b[1m19/19\u001b[0m \u001b[32m━━━━━━━━━━━━━━━━━━━━\u001b[0m\u001b[37m\u001b[0m \u001b[1m182s\u001b[0m 10s/step - loss: 9.5843e-04 - mae: 0.0026 - rmse: 0.0793 - val_loss: 5.8032e-04 - val_mae: 0.0018 - val_rmse: 0.0656 - learning_rate: 0.0010\n",
            "Epoch 12/100\n",
            "\u001b[1m19/19\u001b[0m \u001b[32m━━━━━━━━━━━━━━━━━━━━\u001b[0m\u001b[37m\u001b[0m \u001b[1m182s\u001b[0m 10s/step - loss: 9.3200e-04 - mae: 0.0026 - rmse: 0.0784 - val_loss: 5.9375e-04 - val_mae: 0.0019 - val_rmse: 0.0661 - learning_rate: 0.0010\n",
            "Epoch 13/100\n",
            "\u001b[1m19/19\u001b[0m \u001b[32m━━━━━━━━━━━━━━━━━━━━\u001b[0m\u001b[37m\u001b[0m \u001b[1m182s\u001b[0m 10s/step - loss: 9.2122e-04 - mae: 0.0026 - rmse: 0.0777 - val_loss: 6.1750e-04 - val_mae: 0.0018 - val_rmse: 0.0671 - learning_rate: 0.0010\n",
            "Epoch 14/100\n",
            "\u001b[1m19/19\u001b[0m \u001b[32m━━━━━━━━━━━━━━━━━━━━\u001b[0m\u001b[37m\u001b[0m \u001b[1m181s\u001b[0m 9s/step - loss: 9.0787e-04 - mae: 0.0026 - rmse: 0.0763 - val_loss: 5.7659e-04 - val_mae: 0.0017 - val_rmse: 0.0657 - learning_rate: 0.0010\n",
            "Epoch 15/100\n",
            "\u001b[1m19/19\u001b[0m \u001b[32m━━━━━━━━━━━━━━━━━━━━\u001b[0m\u001b[37m\u001b[0m \u001b[1m181s\u001b[0m 10s/step - loss: 8.8271e-04 - mae: 0.0025 - rmse: 0.0760 - val_loss: 5.5350e-04 - val_mae: 0.0017 - val_rmse: 0.0650 - learning_rate: 0.0010\n",
            "Epoch 16/100\n",
            "\u001b[1m19/19\u001b[0m \u001b[32m━━━━━━━━━━━━━━━━━━━━\u001b[0m\u001b[37m\u001b[0m \u001b[1m182s\u001b[0m 10s/step - loss: 9.0235e-04 - mae: 0.0026 - rmse: 0.0766 - val_loss: 5.6693e-04 - val_mae: 0.0017 - val_rmse: 0.0655 - learning_rate: 0.0010\n",
            "Epoch 17/100\n",
            "\u001b[1m19/19\u001b[0m \u001b[32m━━━━━━━━━━━━━━━━━━━━\u001b[0m\u001b[37m\u001b[0m \u001b[1m181s\u001b[0m 9s/step - loss: 8.5734e-04 - mae: 0.0024 - rmse: 0.0749 - val_loss: 5.9045e-04 - val_mae: 0.0017 - val_rmse: 0.0664 - learning_rate: 5.0000e-04\n",
            "Epoch 18/100\n",
            "\u001b[1m19/19\u001b[0m \u001b[32m━━━━━━━━━━━━━━━━━━━━\u001b[0m\u001b[37m\u001b[0m \u001b[1m287s\u001b[0m 15s/step - loss: 8.5160e-04 - mae: 0.0024 - rmse: 0.0747 - val_loss: 5.7139e-04 - val_mae: 0.0017 - val_rmse: 0.0657 - learning_rate: 5.0000e-04\n",
            "Epoch 19/100\n",
            "\u001b[1m19/19\u001b[0m \u001b[32m━━━━━━━━━━━━━━━━━━━━\u001b[0m\u001b[37m\u001b[0m \u001b[1m180s\u001b[0m 9s/step - loss: 8.5220e-04 - mae: 0.0025 - rmse: 0.0747 - val_loss: 5.7598e-04 - val_mae: 0.0018 - val_rmse: 0.0659 - learning_rate: 5.0000e-04\n",
            "Epoch 20/100\n",
            "\u001b[1m19/19\u001b[0m \u001b[32m━━━━━━━━━━━━━━━━━━━━\u001b[0m\u001b[37m\u001b[0m \u001b[1m180s\u001b[0m 9s/step - loss: 8.3409e-04 - mae: 0.0025 - rmse: 0.0741 - val_loss: 5.8853e-04 - val_mae: 0.0016 - val_rmse: 0.0664 - learning_rate: 5.0000e-04\n",
            "Epoch 21/100\n",
            "\u001b[1m19/19\u001b[0m \u001b[32m━━━━━━━━━━━━━━━━━━━━\u001b[0m\u001b[37m\u001b[0m \u001b[1m180s\u001b[0m 9s/step - loss: 8.2948e-04 - mae: 0.0024 - rmse: 0.0736 - val_loss: 5.8712e-04 - val_mae: 0.0017 - val_rmse: 0.0663 - learning_rate: 5.0000e-04\n",
            "Epoch 22/100\n",
            "\u001b[1m19/19\u001b[0m \u001b[32m━━━━━━━━━━━━━━━━━━━━\u001b[0m\u001b[37m\u001b[0m \u001b[1m182s\u001b[0m 10s/step - loss: 8.2071e-04 - mae: 0.0024 - rmse: 0.0731 - val_loss: 5.8849e-04 - val_mae: 0.0019 - val_rmse: 0.0664 - learning_rate: 5.0000e-04\n",
            "Epoch 23/100\n",
            "\u001b[1m19/19\u001b[0m \u001b[32m━━━━━━━━━━━━━━━━━━━━\u001b[0m\u001b[37m\u001b[0m \u001b[1m180s\u001b[0m 9s/step - loss: 8.1083e-04 - mae: 0.0024 - rmse: 0.0728 - val_loss: 5.8562e-04 - val_mae: 0.0017 - val_rmse: 0.0664 - learning_rate: 2.5000e-04\n",
            "Epoch 24/100\n",
            "\u001b[1m19/19\u001b[0m \u001b[32m━━━━━━━━━━━━━━━━━━━━\u001b[0m\u001b[37m\u001b[0m \u001b[1m181s\u001b[0m 9s/step - loss: 8.0400e-04 - mae: 0.0023 - rmse: 0.0724 - val_loss: 5.7155e-04 - val_mae: 0.0016 - val_rmse: 0.0658 - learning_rate: 2.5000e-04\n",
            "Epoch 25/100\n",
            "\u001b[1m19/19\u001b[0m \u001b[32m━━━━━━━━━━━━━━━━━━━━\u001b[0m\u001b[37m\u001b[0m \u001b[1m181s\u001b[0m 9s/step - loss: 7.9703e-04 - mae: 0.0022 - rmse: 0.0721 - val_loss: 5.7541e-04 - val_mae: 0.0016 - val_rmse: 0.0659 - learning_rate: 2.5000e-04\n",
            "Epoch 26/100\n",
            "\u001b[1m19/19\u001b[0m \u001b[32m━━━━━━━━━━━━━━━━━━━━\u001b[0m\u001b[37m\u001b[0m \u001b[1m181s\u001b[0m 9s/step - loss: 7.9394e-04 - mae: 0.0022 - rmse: 0.0722 - val_loss: 5.7895e-04 - val_mae: 0.0016 - val_rmse: 0.0661 - learning_rate: 2.5000e-04\n",
            "Epoch 27/100\n",
            "\u001b[1m19/19\u001b[0m \u001b[32m━━━━━━━━━━━━━━━━━━━━\u001b[0m\u001b[37m\u001b[0m \u001b[1m181s\u001b[0m 9s/step - loss: 7.9138e-04 - mae: 0.0022 - rmse: 0.0720 - val_loss: 5.7660e-04 - val_mae: 0.0017 - val_rmse: 0.0660 - learning_rate: 2.5000e-04\n",
            "Epoch 28/100\n",
            "\u001b[1m19/19\u001b[0m \u001b[32m━━━━━━━━━━━━━━━━━━━━\u001b[0m\u001b[37m\u001b[0m \u001b[1m180s\u001b[0m 9s/step - loss: 7.8927e-04 - mae: 0.0023 - rmse: 0.0719 - val_loss: 5.7577e-04 - val_mae: 0.0016 - val_rmse: 0.0660 - learning_rate: 2.5000e-04\n",
            "Epoch 29/100\n",
            "\u001b[1m19/19\u001b[0m \u001b[32m━━━━━━━━━━━━━━━━━━━━\u001b[0m\u001b[37m\u001b[0m \u001b[1m181s\u001b[0m 9s/step - loss: 7.8964e-04 - mae: 0.0022 - rmse: 0.0718 - val_loss: 5.7318e-04 - val_mae: 0.0016 - val_rmse: 0.0659 - learning_rate: 1.2500e-04\n",
            "Epoch 30/100\n",
            "\u001b[1m19/19\u001b[0m \u001b[32m━━━━━━━━━━━━━━━━━━━━\u001b[0m\u001b[37m\u001b[0m \u001b[1m180s\u001b[0m 9s/step - loss: 7.8598e-04 - mae: 0.0022 - rmse: 0.0719 - val_loss: 5.8551e-04 - val_mae: 0.0016 - val_rmse: 0.0664 - learning_rate: 1.2500e-04\n",
            "Epoch 31/100\n",
            "\u001b[1m19/19\u001b[0m \u001b[32m━━━━━━━━━━━━━━━━━━━━\u001b[0m\u001b[37m\u001b[0m \u001b[1m181s\u001b[0m 10s/step - loss: 7.7732e-04 - mae: 0.0022 - rmse: 0.0715 - val_loss: 5.8763e-04 - val_mae: 0.0017 - val_rmse: 0.0665 - learning_rate: 1.2500e-04\n",
            "Epoch 32/100\n",
            "\u001b[1m19/19\u001b[0m \u001b[32m━━━━━━━━━━━━━━━━━━━━\u001b[0m\u001b[37m\u001b[0m \u001b[1m181s\u001b[0m 10s/step - loss: 7.7329e-04 - mae: 0.0022 - rmse: 0.0713 - val_loss: 5.7943e-04 - val_mae: 0.0016 - val_rmse: 0.0662 - learning_rate: 1.2500e-04\n",
            "Epoch 33/100\n",
            "\u001b[1m19/19\u001b[0m \u001b[32m━━━━━━━━━━━━━━━━━━━━\u001b[0m\u001b[37m\u001b[0m \u001b[1m181s\u001b[0m 9s/step - loss: 7.7825e-04 - mae: 0.0023 - rmse: 0.0715 - val_loss: 5.7745e-04 - val_mae: 0.0017 - val_rmse: 0.0661 - learning_rate: 1.2500e-04\n",
            "Epoch 34/100\n",
            "\u001b[1m19/19\u001b[0m \u001b[32m━━━━━━━━━━━━━━━━━━━━\u001b[0m\u001b[37m\u001b[0m \u001b[1m180s\u001b[0m 9s/step - loss: 7.7296e-04 - mae: 0.0022 - rmse: 0.0712 - val_loss: 5.7126e-04 - val_mae: 0.0016 - val_rmse: 0.0658 - learning_rate: 1.2500e-04\n",
            "Epoch 35/100\n",
            "\u001b[1m19/19\u001b[0m \u001b[32m━━━━━━━━━━━━━━━━━━━━\u001b[0m\u001b[37m\u001b[0m \u001b[1m181s\u001b[0m 10s/step - loss: 7.7542e-04 - mae: 0.0022 - rmse: 0.0713 - val_loss: 5.9342e-04 - val_mae: 0.0016 - val_rmse: 0.0667 - learning_rate: 6.2500e-05\n",
            "Epoch 36/100\n",
            "\u001b[1m19/19\u001b[0m \u001b[32m━━━━━━━━━━━━━━━━━━━━\u001b[0m\u001b[37m\u001b[0m \u001b[1m181s\u001b[0m 9s/step - loss: 7.7261e-04 - mae: 0.0022 - rmse: 0.0712 - val_loss: 5.8883e-04 - val_mae: 0.0017 - val_rmse: 0.0666 - learning_rate: 6.2500e-05\n"
          ]
        },
        {
          "data": {
            "image/png": "[encoded data removed]",
            "text/plain": [
              "<Figure size 600x400 with 1 Axes>"
            ]
          },
          "metadata": {},
          "output_type": "display_data"
        }
      ],
      "source": [
        "from tensorflow.keras import callbacks\n",
        "from src.training.utils import ensure_dir, plot_learning_curves\n",
        "\n",
        "tf.random.set_seed(C.SEED)\n",
        "\n",
        "# Datasets\n",
        "train_ds = (tf.data.Dataset.from_tensor_slices((X_train, y_train))\n",
        "            .shuffle(4096, seed=C.SEED).batch(C.BATCH_SIZE).prefetch(tf.data.AUTOTUNE))\n",
        "val_ds   = tf.data.Dataset.from_tensor_slices((X_val, y_val)).batch(C.BATCH_SIZE).prefetch(tf.data.AUTOTUNE)\n",
        "test_ds  = tf.data.Dataset.from_tensor_slices((X_test, y_test)).batch(C.BATCH_SIZE).prefetch(tf.data.AUTOTUNE)\n",
        "\n",
        "# Run directory\n",
        "run_id = dt.datetime.now().strftime(\"%Y%m%d-%H%M%S\")\n",
        "outdir = Path(C.ARTIFACTS) / f\"map_run_{run_id}\"\n",
        "ensure_dir(outdir)\n",
        "\n",
        "cbs = [\n",
        "    callbacks.EarlyStopping(monitor=\"val_mae\", patience=12, restore_best_weights=True),\n",
        "    callbacks.ReduceLROnPlateau(monitor=\"val_mae\", patience=6, factor=0.5, min_lr=1e-6),\n",
        "    callbacks.ModelCheckpoint(filepath=str(outdir / \"best.keras\"), monitor=\"val_mae\", save_best_only=True),\n",
        "    callbacks.CSVLogger(str(outdir / \"history.csv\")),\n",
        "    callbacks.TensorBoard(log_dir=str(outdir / \"tb\")),\n",
        "]\n",
        "\n",
        "history = model.fit(train_ds, validation_data=val_ds, epochs=C.EPOCHS, callbacks=cbs, verbose=1)\n",
        "\n",
        "# Save final model + history\n",
        "model.save(outdir / \"final.keras\")\n",
        "with open(outdir / \"history.json\", \"w\") as f:\n",
        "    json.dump(history.history, f, indent=2)\n",
        "\n",
        "plot_learning_curves(history)"
      ]
    },
    {
      "cell_type": "markdown",
      "id": "054f2f79",
      "metadata": {},
      "source": [
        "## Evaluation"
      ]
    },
    {
      "cell_type": "markdown",
      "id": "a2dad429",
      "metadata": {},
      "source": [
        "### Evaluate and visualize"
      ]
    },
    {
      "cell_type": "code",
      "execution_count": 7,
      "id": "b6cac9f6",
      "metadata": {},
      "outputs": [
        {
          "ename": "NameError",
          "evalue": "name 'outdir' is not defined",
          "output_type": "error",
          "traceback": [
            "\u001b[31m---------------------------------------------------------------------------\u001b[39m",
            "\u001b[31mNameError\u001b[39m                                 Traceback (most recent call last)",
            "\u001b[36mCell\u001b[39m\u001b[36m \u001b[39m\u001b[32mIn[7]\u001b[39m\u001b[32m, line 3\u001b[39m\n\u001b[32m      1\u001b[39m \u001b[38;5;28;01mfrom\u001b[39;00m\u001b[38;5;250m \u001b[39m\u001b[34;01msrc\u001b[39;00m\u001b[34;01m.\u001b[39;00m\u001b[34;01mevaluation\u001b[39;00m\u001b[34;01m.\u001b[39;00m\u001b[34;01mcnn\u001b[39;00m\u001b[34;01m.\u001b[39;00m\u001b[34;01meval_map\u001b[39;00m\u001b[38;5;250m \u001b[39m\u001b[38;5;28;01mimport\u001b[39;00m eval_and_save\n\u001b[32m----> \u001b[39m\u001b[32m3\u001b[39m eval_dir = \u001b[43moutdir\u001b[49m / \u001b[33m\"\u001b[39m\u001b[33meval\u001b[39m\u001b[33m\"\u001b[39m\n\u001b[32m      4\u001b[39m eval_and_save(outdir / \u001b[33m\"\u001b[39m\u001b[33mbest.keras\u001b[39m\u001b[33m\"\u001b[39m, X_test, y_test, eval_dir)\n\u001b[32m      6\u001b[39m \u001b[38;5;66;03m# Show saved figures (if present)\u001b[39;00m\n",
            "\u001b[31mNameError\u001b[39m: name 'outdir' is not defined"
          ]
        }
      ],
      "source": [
        "from src.evaluation.cnn.eval_map import eval_and_save\n",
        "\n",
        "eval_dir = outdir / \"eval\"\n",
        "eval_and_save(outdir / \"best.keras\", X_test, y_test, eval_dir)\n",
        "\n",
        "# Show saved figures (if present)\n",
        "from IPython.display import display, Image\n",
        "for name in [\"parity.png\", \"residuals.png\", \"sample_0.png\", \"sample_1.png\", \"sample_2.png\"]:\n",
        "    p = eval_dir / name\n",
        "    if p.exists():\n",
        "        display(Image(filename=str(p)))"
      ]
    }
  ],
  "metadata": {
    "kernelspec": {
      "display_name": "seismic-gnn",
      "language": "python",
      "name": "python3"
    },
    "language_info": {
      "codemirror_mode": {
        "name": "ipython",
        "version": 3
      },
      "file_extension": ".py",
      "mimetype": "text/x-python",
      "name": "python",
      "nbconvert_exporter": "python",
      "pygments_lexer": "ipython3",
      "version": "3.11.13"
    }
  },
  "nbformat": 4,
  "nbformat_minor": 5
}
