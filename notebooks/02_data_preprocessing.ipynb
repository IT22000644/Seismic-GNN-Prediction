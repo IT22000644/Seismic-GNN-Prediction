{
 "cells": [
  {
   "cell_type": "markdown",
   "id": "504632ad",
   "metadata": {},
   "source": [
    "# California Earthquake Data Preprocessing\n",
    "## SE4050 - Deep Learning Assignment\n",
    "\n",
    "\n",
    "---\n",
    "\n",
    "## Notebook Purpose\n",
    "This notebook performs data cleaning and preprocessing on raw USGS California earthquake data.\n",
    "\n",
    "### Objectives:\n",
    "1. Load raw earthquake data from USGS\n",
    "2. Handle missing values and data quality issues\n",
    "3. Validate geographic bounds and data ranges\n",
    "4. Extract basic temporal features\n",
    "5. Remove duplicates and invalid records\n",
    "6. Save cleaned dataset for feature engineering\n",
    "\n",
    "### Input:\n",
    "- `data/raw/california_earthquakes.csv` - Raw USGS earthquake catalog\n",
    "\n",
    "### Output:\n",
    "- `data/processed/earthquakes_cleaned.csv` - Cleaned dataset\n",
    "- `data/processed/preprocessing_summary.txt` - Processing summary\n",
    "- `data/processed/cleaned_data_overview.png` - Visualization\n",
    "\n",
    "---"
   ]
  },
  {
   "cell_type": "code",
   "execution_count": 1,
   "id": "ed22b14f",
   "metadata": {},
   "outputs": [
    {
     "name": "stdout",
     "output_type": "stream",
     "text": [
      "Libraries imported successfully\n",
      "Pandas version: 2.3.3\n",
      "NumPy version: 2.3.1\n"
     ]
    }
   ],
   "source": [
    "# ============================================================================\n",
    "# CALIFORNIA EARTHQUAKE DATA PREPROCESSING\n",
    "# SE4050 Deep Learning Assignment\n",
    "# ============================================================================\n",
    "# Purpose: Clean raw USGS earthquake data for feature engineering\n",
    "# Input: Raw USGS CSV from data exploration\n",
    "# Output: Cleaned dataset ready for feature engineering\n",
    "# ============================================================================\n",
    "\n",
    "import pandas as pd\n",
    "import numpy as np\n",
    "import matplotlib.pyplot as plt\n",
    "import seaborn as sns\n",
    "from datetime import datetime\n",
    "from pathlib import Path\n",
    "import warnings\n",
    "warnings.filterwarnings('ignore')\n",
    "\n",
    "print(\"Libraries imported successfully\")\n",
    "print(f\"Pandas version: {pd.__version__}\")\n",
    "print(f\"NumPy version: {np.__version__}\")"
   ]
  },
  {
   "cell_type": "markdown",
   "id": "075af785",
   "metadata": {},
   "source": [
    "---\n",
    "## 1. Data Loading\n",
    "\n",
    "Loading the raw earthquake dataset exported from USGS earthquake catalog.\n",
    "\n",
    "**Expected data:**\n",
    "- California earthquakes from 2015-2023\n",
    "- Magnitude ≥ 3.5\n",
    "- Approximately 1,542 records "
   ]
  },
  {
   "cell_type": "code",
   "execution_count": 2,
   "id": "2bcd4a81",
   "metadata": {},
   "outputs": [
    {
     "name": "stdout",
     "output_type": "stream",
     "text": [
      "Dataset loaded successfully\n",
      "Shape: (1707, 27)\n",
      "Total earthquakes: 1707\n",
      "\n",
      "Columns (27):\n",
      "['event_id', 'time', 'year', 'month', 'day', 'hour', 'minute', 'day_of_week', 'day_of_year', 'timestamp', 'latitude', 'longitude', 'depth_km', 'magnitude', 'magnitude_type', 'horizontal_uncertainty_km', 'depth_uncertainty_km', 'has_uncertainty', 'time_uncertainty_sec', 'azimuthal_gap_deg', 'stations_used', 'min_station_distance_deg', 'description', 'hour_sin', 'hour_cos', 'month_sin', 'month_cos']\n"
     ]
    }
   ],
   "source": [
    "# Load the raw earthquake data (same file used in exploration)\n",
    "df = pd.read_csv('../data/raw/earthquakes/california_earthquakes.csv')\n",
    "\n",
    "print(f\"Dataset loaded successfully\")\n",
    "print(f\"Shape: {df.shape}\")\n",
    "print(f\"Total earthquakes: {len(df)}\")\n",
    "print(f\"\\nColumns ({len(df.columns)}):\")\n",
    "print(df.columns.tolist())\n",
    "\n"
   ]
  },
  {
   "cell_type": "markdown",
   "id": "30224533",
   "metadata": {},
   "source": [
    "---\n",
    "## 2. Initial Data Inspection\n",
    "\n",
    "Understanding the structure, data types, and basic statistics of our raw dataset."
   ]
  },
  {
   "cell_type": "code",
   "execution_count": 3,
   "id": "0036561d",
   "metadata": {},
   "outputs": [
    {
     "name": "stdout",
     "output_type": "stream",
     "text": [
      "First 5 rows:\n",
      "                                  event_id                     time  year  \\\n",
      "0  query?eventid=ci37301704&format=quakeml  2015-01-04 03:18:09.480  2015   \n",
      "1  query?eventid=nn00481243&format=quakeml  2015-01-04 09:56:43.113  2015   \n",
      "2  query?eventid=nn00475344&format=quakeml  2015-01-04 20:08:14.199  2015   \n",
      "3  query?eventid=nn00475380&format=quakeml  2015-01-05 01:47:21.986  2015   \n",
      "4  query?eventid=nn00475453&format=quakeml  2015-01-05 15:35:50.158  2015   \n",
      "\n",
      "   month  day  hour  minute  day_of_week  day_of_year   timestamp  ...  \\\n",
      "0      1    4     3      18            6            4  1420341489  ...   \n",
      "1      1    4     9      56            6            4  1420365403  ...   \n",
      "2      1    4    20       8            6            4  1420402094  ...   \n",
      "3      1    5     1      47            0            5  1420422441  ...   \n",
      "4      1    5    15      35            0            5  1420472150  ...   \n",
      "\n",
      "   has_uncertainty  time_uncertainty_sec  azimuthal_gap_deg  stations_used  \\\n",
      "0             True                   NaN                NaN          106.0   \n",
      "1             True                   NaN                NaN            5.0   \n",
      "2             True                   NaN                NaN            5.0   \n",
      "3             True                   NaN                NaN            5.0   \n",
      "4             True                   NaN                NaN            7.0   \n",
      "\n",
      "  min_station_distance_deg                          description  hour_sin  \\\n",
      "0                      NaN                14km N of Castaic, CA  0.707107   \n",
      "1                    0.141  43 km E of Fort Bidwell, California  0.707107   \n",
      "2                    0.136  42 km E of Fort Bidwell, California -0.866025   \n",
      "3                    0.145  42 km E of Fort Bidwell, California  0.258819   \n",
      "4                    0.133  42 km E of Fort Bidwell, California -0.707107   \n",
      "\n",
      "   hour_cos  month_sin  month_cos  \n",
      "0  0.707107        0.5   0.866025  \n",
      "1 -0.707107        0.5   0.866025  \n",
      "2  0.500000        0.5   0.866025  \n",
      "3  0.965926        0.5   0.866025  \n",
      "4 -0.707107        0.5   0.866025  \n",
      "\n",
      "[5 rows x 27 columns]\n",
      "\n",
      "================================================================================\n",
      "Data types:\n",
      "event_id                      object\n",
      "time                          object\n",
      "year                           int64\n",
      "month                          int64\n",
      "day                            int64\n",
      "hour                           int64\n",
      "minute                         int64\n",
      "day_of_week                    int64\n",
      "day_of_year                    int64\n",
      "timestamp                      int64\n",
      "latitude                     float64\n",
      "longitude                    float64\n",
      "depth_km                     float64\n",
      "magnitude                    float64\n",
      "magnitude_type                object\n",
      "horizontal_uncertainty_km    float64\n",
      "depth_uncertainty_km         float64\n",
      "has_uncertainty                 bool\n",
      "time_uncertainty_sec         float64\n",
      "azimuthal_gap_deg            float64\n",
      "stations_used                float64\n",
      "min_station_distance_deg     float64\n",
      "description                   object\n",
      "hour_sin                     float64\n",
      "hour_cos                     float64\n",
      "month_sin                    float64\n",
      "month_cos                    float64\n",
      "dtype: object\n",
      "\n",
      "================================================================================\n",
      "Basic statistics:\n",
      "              year        month          day         hour       minute  \\\n",
      "count  1707.000000  1707.000000  1707.000000  1707.000000  1707.000000   \n",
      "mean   2019.780316     6.792619    13.236087    10.601054    30.565905   \n",
      "std       2.375211     2.982617     8.534114     7.093386    16.837569   \n",
      "min    2015.000000     1.000000     1.000000     0.000000     0.000000   \n",
      "25%    2019.000000     5.000000     6.000000     4.000000    17.000000   \n",
      "50%    2020.000000     7.000000    11.000000    10.000000    31.000000   \n",
      "75%    2021.000000     9.000000    20.000000    17.000000    45.000000   \n",
      "max    2024.000000    12.000000    31.000000    23.000000    59.000000   \n",
      "\n",
      "       day_of_week  day_of_year     timestamp     latitude    longitude  ...  \\\n",
      "count  1707.000000  1707.000000  1.707000e+03  1707.000000  1707.000000  ...   \n",
      "mean      3.332162   188.712947  1.587185e+09    36.793111  -118.759396  ...   \n",
      "std       1.899692    90.923610  7.558012e+07     2.421930     2.550170  ...   \n",
      "min       0.000000     1.000000  1.420341e+09    32.045833  -124.996500  ...   \n",
      "25%       2.000000   136.000000  1.562304e+09    35.598083  -119.622300  ...   \n",
      "50%       4.000000   187.000000  1.583585e+09    36.149833  -117.850667  ...   \n",
      "75%       5.000000   246.000000  1.629323e+09    38.390050  -117.483917  ...   \n",
      "max       6.000000   366.000000  1.735432e+09    41.995100  -114.026300  ...   \n",
      "\n",
      "       horizontal_uncertainty_km  depth_uncertainty_km  time_uncertainty_sec  \\\n",
      "count                        0.0                   0.0                   0.0   \n",
      "mean                         NaN                   NaN                   NaN   \n",
      "std                          NaN                   NaN                   NaN   \n",
      "min                          NaN                   NaN                   NaN   \n",
      "25%                          NaN                   NaN                   NaN   \n",
      "50%                          NaN                   NaN                   NaN   \n",
      "75%                          NaN                   NaN                   NaN   \n",
      "max                          NaN                   NaN                   NaN   \n",
      "\n",
      "       azimuthal_gap_deg  stations_used  min_station_distance_deg  \\\n",
      "count                0.0    1696.000000               1699.000000   \n",
      "mean                 NaN      58.409198                  0.113723   \n",
      "std                  NaN      45.047717                  0.138622   \n",
      "min                  NaN       4.000000                  0.001033   \n",
      "25%                  NaN      27.000000                  0.038020   \n",
      "50%                  NaN      46.000000                  0.069500   \n",
      "75%                  NaN      77.000000                  0.123000   \n",
      "max                  NaN     289.000000                  1.454000   \n",
      "\n",
      "          hour_sin     hour_cos     month_sin    month_cos  \n",
      "count  1707.000000  1707.000000  1.707000e+03  1707.000000  \n",
      "mean      0.072929     0.083505 -9.983514e-02    -0.250158  \n",
      "std       0.714884     0.690817  6.148734e-01     0.741571  \n",
      "min      -1.000000    -1.000000 -1.000000e+00    -1.000000  \n",
      "25%      -0.707107    -0.500000 -5.000000e-01    -0.866025  \n",
      "50%       0.258819     0.258819 -2.449294e-16    -0.500000  \n",
      "75%       0.707107     0.707107  5.000000e-01     0.500000  \n",
      "max       1.000000     1.000000  1.000000e+00     1.000000  \n",
      "\n",
      "[8 rows x 22 columns]\n"
     ]
    }
   ],
   "source": [
    "# Display first few rows\n",
    "print(\"First 5 rows:\")\n",
    "print(df.head())\n",
    "\n",
    "print(\"\\n\" + \"=\"*80)\n",
    "print(\"Data types:\")\n",
    "print(df.dtypes)\n",
    "\n",
    "print(\"\\n\" + \"=\"*80)\n",
    "print(\"Basic statistics:\")\n",
    "print(df.describe())"
   ]
  },
  {
   "cell_type": "markdown",
   "id": "a046a21d",
   "metadata": {},
   "source": [
    "---\n",
    "## 3. Missing Value Analysis\n",
    "\n",
    "Identifying and quantifying missing data to determine cleaning strategy.\n",
    "\n",
    "**Strategy:**\n",
    "- Drop columns with 100% missing values (no information)\n",
    "- Handle critical columns (lat, lon, magnitude, depth) by dropping rows\n",
    "- Document all missing data for transparency"
   ]
  },
  {
   "cell_type": "code",
   "execution_count": 4,
   "id": "7fc781d0",
   "metadata": {},
   "outputs": [
    {
     "name": "stdout",
     "output_type": "stream",
     "text": [
      "Missing Values Summary:\n",
      "                   Column  Missing_Count  Missing_Percentage\n",
      "horizontal_uncertainty_km           1707              100.00\n",
      "     depth_uncertainty_km           1707              100.00\n",
      "     time_uncertainty_sec           1707              100.00\n",
      "        azimuthal_gap_deg           1707              100.00\n",
      "            stations_used             11                0.64\n",
      "                 depth_km              9                0.53\n",
      " min_station_distance_deg              8                0.47\n",
      "\n",
      "Total columns with missing values: 7\n",
      "Columns with 100% missing: 4\n"
     ]
    }
   ],
   "source": [
    "# Comprehensive missing value analysis\n",
    "missing_df = pd.DataFrame({\n",
    "    'Column': df.columns,\n",
    "    'Missing_Count': df.isnull().sum(),\n",
    "    'Missing_Percentage': (df.isnull().sum() / len(df) * 100).round(2)\n",
    "})\n",
    "\n",
    "missing_df = missing_df[missing_df['Missing_Count'] > 0].sort_values('Missing_Percentage', ascending=False)\n",
    "\n",
    "print(\"Missing Values Summary:\")\n",
    "print(missing_df.to_string(index=False))\n",
    "\n",
    "print(f\"\\nTotal columns with missing values: {len(missing_df)}\")\n",
    "print(f\"Columns with 100% missing: {len(missing_df[missing_df['Missing_Percentage'] == 100])}\")"
   ]
  },
  {
   "cell_type": "markdown",
   "id": "08af8470",
   "metadata": {},
   "source": [
    "### 3.1 Visualize Missing Data Pattern"
   ]
  },
  {
   "cell_type": "code",
   "execution_count": 5,
   "id": "b6ef281c",
   "metadata": {},
   "outputs": [
    {
     "data": {
      "image/png": "[encoded data removed]",
      "text/plain": [
       "<Figure size 1200x600 with 1 Axes>"
      ]
     },
     "metadata": {},
     "output_type": "display_data"
    }
   ],
   "source": [
    "# Visualize missing data patterns\n",
    "if len(missing_df) > 0:\n",
    "    plt.figure(figsize=(12, 6))\n",
    "    \n",
    "    # Plot missing percentages\n",
    "    cols_to_plot = missing_df.head(20)  # Top 20 columns with missing data\n",
    "    plt.barh(cols_to_plot['Column'], cols_to_plot['Missing_Percentage'])\n",
    "    plt.xlabel('Missing Percentage (%)')\n",
    "    plt.title('Missing Data by Column (Top 20)')\n",
    "    plt.grid(axis='x', alpha=0.3)\n",
    "    plt.tight_layout()\n",
    "    plt.show()\n",
    "else:\n",
    "    print(\"No missing values in dataset!\")"
   ]
  },
  {
   "cell_type": "markdown",
   "id": "92f3daab",
   "metadata": {},
   "source": [
    "---\n",
    "## 4. Data Cleaning - Remove Empty Columns\n",
    "\n",
    "Dropping columns with 100% missing values as they provide no information for modeling."
   ]
  },
  {
   "cell_type": "code",
   "execution_count": 6,
   "id": "a17218bf",
   "metadata": {},
   "outputs": [
    {
     "name": "stdout",
     "output_type": "stream",
     "text": [
      "Dropping 4 columns with 100% missing values:\n",
      "  - horizontal_uncertainty_km\n",
      "  - depth_uncertainty_km\n",
      "  - time_uncertainty_sec\n",
      "  - azimuthal_gap_deg\n",
      "\n",
      "New shape: (1707, 23)\n"
     ]
    }
   ],
   "source": [
    "# Drop columns that are completely empty (no information)\n",
    "cols_100_missing = missing_df[missing_df['Missing_Percentage'] == 100]['Column'].tolist()\n",
    "\n",
    "if cols_100_missing:\n",
    "    print(f\"Dropping {len(cols_100_missing)} columns with 100% missing values:\")\n",
    "    for col in cols_100_missing:\n",
    "        print(f\"  - {col}\")\n",
    "    \n",
    "    df = df.drop(columns=cols_100_missing)\n",
    "    print(f\"\\nNew shape: {df.shape}\")\n",
    "else:\n",
    "    print(\"No columns with 100% missing values\")"
   ]
  },
  {
   "cell_type": "markdown",
   "id": "4c662136",
   "metadata": {},
   "source": [
    "---\n",
    "## 5. Column Identification and Standardization\n",
    "\n",
    "Identifying essential columns needed for deep learning analysis:\n",
    "- **ID columns:** Unique earthquake identifiers\n",
    "- **Time columns:** Temporal information\n",
    "- **Location columns:** Latitude, longitude, depth\n",
    "- **Magnitude columns:** Earthquake magnitude\n",
    "- **Info columns:** Additional metadata"
   ]
  },
  {
   "cell_type": "code",
   "execution_count": 7,
   "id": "12b0ee2d",
   "metadata": {},
   "outputs": [
    {
     "name": "stdout",
     "output_type": "stream",
     "text": [
      "Essential columns found in dataset:\n",
      "\n",
      "id_cols:\n",
      "  - event_id\n",
      "\n",
      "time_cols:\n",
      "  - time\n",
      "\n",
      "location_cols:\n",
      "  - latitude\n",
      "  - longitude\n",
      "\n",
      "magnitude_cols:\n",
      "  - magnitude\n",
      "\n",
      "\n",
      "All current columns (23):\n",
      "['event_id', 'time', 'year', 'month', 'day', 'hour', 'minute', 'day_of_week', 'day_of_year', 'timestamp', 'latitude', 'longitude', 'depth_km', 'magnitude', 'magnitude_type', 'has_uncertainty', 'stations_used', 'min_station_distance_deg', 'description', 'hour_sin', 'hour_cos', 'month_sin', 'month_cos']\n"
     ]
    }
   ],
   "source": [
    "# Define essential columns for earthquake analysis\n",
    "# Adjust these based on what's actually in your USGS data\n",
    "\n",
    "essential_columns = {\n",
    "    'id_cols': ['id', 'event_id', 'ids'],  # Possible ID column names\n",
    "    'time_cols': ['time', 'datetime', 'origintime'],\n",
    "    'location_cols': ['latitude', 'longitude', 'lat', 'lon', 'depth'],\n",
    "    'magnitude_cols': ['mag', 'magnitude'],\n",
    "    'info_cols': ['place', 'type', 'magType', 'status']\n",
    "}\n",
    "\n",
    "# Find which columns exist in our dataset\n",
    "existing_cols = {}\n",
    "for cat, cols in essential_columns.items():\n",
    "    found = [col for col in cols if col in df.columns]\n",
    "    if found:\n",
    "        existing_cols[cat] = found\n",
    "\n",
    "print(\"Essential columns found in dataset:\")\n",
    "for cat, cols in existing_cols.items():\n",
    "    print(f\"\\n{cat}:\")\n",
    "    for col in cols:\n",
    "        print(f\"  - {col}\")\n",
    "\n",
    "# Show all current columns\n",
    "print(f\"\\n\\nAll current columns ({len(df.columns)}):\")\n",
    "print(df.columns.tolist())"
   ]
  },
  {
   "cell_type": "markdown",
   "id": "d6d25d2a",
   "metadata": {},
   "source": [
    "### 5.1 Standardize Column Names\n",
    "\n",
    "Renaming columns to consistent naming convention for easier processing.\n",
    "\n",
    "**Standard names:**\n",
    "- `event_id` - Unique identifier\n",
    "- `latitude`, `longitude` - Geographic coordinates\n",
    "- `depth_km` - Depth in kilometers\n",
    "- `magnitude` - Earthquake magnitude"
   ]
  },
  {
   "cell_type": "code",
   "execution_count": 8,
   "id": "b7f2b993",
   "metadata": {},
   "outputs": [
    {
     "name": "stdout",
     "output_type": "stream",
     "text": [
      "No columns needed renaming\n",
      "\n",
      "Updated columns:\n",
      "['event_id', 'time', 'year', 'month', 'day', 'hour', 'minute', 'day_of_week', 'day_of_year', 'timestamp', 'latitude', 'longitude', 'depth_km', 'magnitude', 'magnitude_type', 'has_uncertainty', 'stations_used', 'min_station_distance_deg', 'description', 'hour_sin', 'hour_cos', 'month_sin', 'month_cos']\n"
     ]
    }
   ],
   "source": [
    "# Rename columns to standard names for consistency\n",
    "rename_map = {}\n",
    "\n",
    "# ID column\n",
    "if 'id' in df.columns:\n",
    "    rename_map['id'] = 'event_id'\n",
    "elif 'ids' in df.columns:\n",
    "    rename_map['ids'] = 'event_id'\n",
    "\n",
    "# Magnitude column\n",
    "if 'mag' in df.columns:\n",
    "    rename_map['mag'] = 'magnitude'\n",
    "\n",
    "# Depth column (if it has a different name)\n",
    "if 'depth' in df.columns and 'depth_km' not in df.columns:\n",
    "    # Check if depth is in km or meters\n",
    "    depth_median = df['depth'].median()\n",
    "    if depth_median > 100:  # Likely in meters\n",
    "        df['depth_km'] = df['depth'] / 1000\n",
    "        print(\"Converted depth from meters to kilometers\")\n",
    "    else:\n",
    "        rename_map['depth'] = 'depth_km'\n",
    "\n",
    "# Location columns\n",
    "if 'lat' in df.columns:\n",
    "    rename_map['lat'] = 'latitude'\n",
    "if 'lon' in df.columns:\n",
    "    rename_map['lon'] = 'longitude'\n",
    "\n",
    "# Apply renaming\n",
    "if rename_map:\n",
    "    df = df.rename(columns=rename_map)\n",
    "    print(\"Renamed columns:\")\n",
    "    for old, new in rename_map.items():\n",
    "        print(f\"  {old} → {new}\")\n",
    "else:\n",
    "    print(\"No columns needed renaming\")\n",
    "\n",
    "print(f\"\\nUpdated columns:\")\n",
    "print(df.columns.tolist())"
   ]
  },
  {
   "cell_type": "markdown",
   "id": "bc424175",
   "metadata": {},
   "source": [
    "---\n",
    "## 6. Temporal Data Processing\n",
    "\n",
    "Converting time strings to datetime objects for temporal analysis.\n",
    "\n",
    "**Why this matters:**\n",
    "- Enables time-based feature extraction\n",
    "- Required for LSTM sequential modeling\n",
    "- Allows temporal pattern analysis"
   ]
  },
  {
   "cell_type": "code",
   "execution_count": 9,
   "id": "3202146d",
   "metadata": {},
   "outputs": [
    {
     "name": "stdout",
     "output_type": "stream",
     "text": [
      "Converting 'time' to datetime...\n",
      "\n",
      "Sample values before conversion:\n",
      "0    2015-01-04 03:18:09.480\n",
      "1    2015-01-04 09:56:43.113\n",
      "2    2015-01-04 20:08:14.199\n",
      "3    2015-01-05 01:47:21.986\n",
      "4    2015-01-05 15:35:50.158\n",
      "Name: time, dtype: object\n",
      "\n",
      "Datetime conversion successful!\n",
      "Date range: 2015-01-04 03:18:09.480000 to 2024-12-29 00:21:10.260000\n"
     ]
    }
   ],
   "source": [
    "# Find the time column\n",
    "time_col = None\n",
    "for col in ['time', 'datetime', 'origintime']:\n",
    "    if col in df.columns:\n",
    "        time_col = col\n",
    "        break\n",
    "\n",
    "if time_col:\n",
    "    print(f\"Converting '{time_col}' to datetime...\")\n",
    "    \n",
    "    # Show sample before conversion\n",
    "    print(f\"\\nSample values before conversion:\")\n",
    "    print(df[time_col].head())\n",
    "    \n",
    "    # Convert to datetime\n",
    "    df['time'] = pd.to_datetime(df[time_col], errors='coerce')\n",
    "    \n",
    "    # Check for conversion failures\n",
    "    failed_conversions = df['time'].isnull().sum()\n",
    "    if failed_conversions > 0:\n",
    "        print(f\"\\nWarning: {failed_conversions} timestamps failed to convert\")\n",
    "    \n",
    "    print(f\"\\nDatetime conversion successful!\")\n",
    "    print(f\"Date range: {df['time'].min()} to {df['time'].max()}\")\n",
    "    \n",
    "    # Drop original column if it had a different name\n",
    "    if time_col != 'time':\n",
    "        df = df.drop(columns=[time_col])\n",
    "else:\n",
    "    print(\"ERROR: No time column found!\")"
   ]
  },
  {
   "cell_type": "markdown",
   "id": "1c5f01f5",
   "metadata": {},
   "source": [
    "### 6.1 Extract Basic Time Features\n",
    "\n",
    "Creating temporal features that will be useful for all model types.\n",
    "\n",
    "**Features created:**\n",
    "- `year`, `month`, `day`, `hour`, `minute` - Standard temporal components\n",
    "- `day_of_week` - Monday=0, Sunday=6\n",
    "- `day_of_year` - 1-365/366\n",
    "- `quarter` - Q1-Q4\n",
    "- `is_weekend` - Binary flag for weekend earthquakes\n",
    "- `timestamp` - Unix timestamp for numerical calculations\n",
    "\n",
    "**Use cases:**\n",
    "- DNN: Direct input features\n",
    "- LSTM: Sequence ordering\n",
    "- CNN: Temporal grid positioning\n",
    "- GNN: Temporal edge weights"
   ]
  },
  {
   "cell_type": "code",
   "execution_count": 10,
   "id": "8c00951f",
   "metadata": {},
   "outputs": [
    {
     "name": "stdout",
     "output_type": "stream",
     "text": [
      "Extracting time-based features...\n",
      "Time features created:\n",
      "['year', 'month', 'day', 'hour', 'minute', 'day_of_week', 'day_of_year', 'quarter', 'is_weekend', 'timestamp']\n",
      "\n",
      "Temporal distribution:\n",
      "year\n",
      "2015    105\n",
      "2016     91\n",
      "2017     75\n",
      "2018     61\n",
      "2019    502\n",
      "2020    325\n",
      "2021    174\n",
      "2022     98\n",
      "2023    111\n",
      "2024    165\n",
      "Name: count, dtype: int64\n"
     ]
    }
   ],
   "source": [
    "# Create time-based features for modeling\n",
    "print(\"Extracting time-based features...\")\n",
    "\n",
    "df['year'] = df['time'].dt.year\n",
    "df['month'] = df['time'].dt.month\n",
    "df['day'] = df['time'].dt.day\n",
    "df['hour'] = df['time'].dt.hour\n",
    "df['minute'] = df['time'].dt.minute\n",
    "df['day_of_week'] = df['time'].dt.dayofweek  # Monday=0, Sunday=6\n",
    "df['day_of_year'] = df['time'].dt.dayofyear\n",
    "df['quarter'] = df['time'].dt.quarter\n",
    "df['is_weekend'] = (df['day_of_week'] >= 5).astype(int)\n",
    "\n",
    "# Unix timestamp for numerical calculations\n",
    "df['timestamp'] = df['time'].astype(np.int64) // 10**9\n",
    "\n",
    "print(\"Time features created:\")\n",
    "time_features = ['year', 'month', 'day', 'hour', 'minute', 'day_of_week', \n",
    "                 'day_of_year', 'quarter', 'is_weekend', 'timestamp']\n",
    "print(time_features)\n",
    "\n",
    "# Show distribution\n",
    "print(f\"\\nTemporal distribution:\")\n",
    "print(df['year'].value_counts().sort_index())"
   ]
  },
  {
   "cell_type": "markdown",
   "id": "05d17051",
   "metadata": {},
   "source": [
    "---\n",
    "## 7. Critical Column Validation\n",
    "\n",
    "Verifying that all essential columns for deep learning modeling are present.\n",
    "\n",
    "**Critical columns required:**\n",
    "1. `event_id` - Unique identifier for tracking\n",
    "2. `time` - Temporal information\n",
    "3. `latitude`, `longitude` - Spatial coordinates\n",
    "4. `depth_km` - Depth information\n",
    "5. `magnitude` - Target variable for prediction"
   ]
  },
  {
   "cell_type": "code",
   "execution_count": 11,
   "id": "b8c63dce",
   "metadata": {},
   "outputs": [
    {
     "name": "stdout",
     "output_type": "stream",
     "text": [
      "Checking critical columns...\n",
      "✓ All critical columns present\n",
      "\n",
      "Critical column statistics:\n",
      "                                time     latitude    longitude     depth_km  \\\n",
      "count                           1707  1707.000000  1707.000000  1698.000000   \n",
      "mean   2020-04-18 04:44:58.524961280    36.793111  -118.759396     8.192887   \n",
      "min       2015-01-04 03:18:09.480000    32.045833  -124.996500    -1.920000   \n",
      "25%    2019-07-05 05:12:04.205000192    35.598083  -119.622300     4.470000   \n",
      "50%    2020-03-07 12:51:16.870000128    36.149833  -117.850667     7.360000   \n",
      "75%    2021-08-18 21:47:48.764999936    38.390050  -117.483917    10.317500   \n",
      "max       2024-12-29 00:21:10.260000    41.995100  -114.026300    35.680000   \n",
      "std                              NaN     2.421930     2.550170     5.767580   \n",
      "\n",
      "         magnitude  \n",
      "count  1707.000000  \n",
      "mean      3.892795  \n",
      "min       3.500000  \n",
      "25%       3.600000  \n",
      "50%       3.770000  \n",
      "75%       4.060000  \n",
      "max       7.100000  \n",
      "std       0.418079  \n"
     ]
    }
   ],
   "source": [
    "# Verify we have all critical columns for modeling\n",
    "critical_columns = ['event_id', 'time', 'latitude', 'longitude', 'depth_km', 'magnitude']\n",
    "\n",
    "print(\"Checking critical columns...\")\n",
    "missing_critical = [col for col in critical_columns if col not in df.columns]\n",
    "\n",
    "if missing_critical:\n",
    "    print(f\"\\nERROR: Missing critical columns: {missing_critical}\")\n",
    "    print(\"Available columns:\", df.columns.tolist())\n",
    "else:\n",
    "    print(\"✓ All critical columns present\")\n",
    "    \n",
    "    # Show statistics for critical columns\n",
    "    print(\"\\nCritical column statistics:\")\n",
    "    print(df[critical_columns].describe())"
   ]
  },
  {
   "cell_type": "markdown",
   "id": "fa0a45dd",
   "metadata": {},
   "source": [
    "---\n",
    "## 8. Handle Missing Values in Critical Columns\n",
    "\n",
    "**Strategy:** Drop rows with missing values in critical columns.\n",
    "\n",
    "**Rationale:**\n",
    "- Cannot predict without location (lat/lon)\n",
    "- Cannot predict without target variable (magnitude)\n",
    "- Depth is essential for seismic analysis\n",
    "- With 99.5%+ completeness, minimal data loss expected\n",
    "\n",
    "**Assignment requirement:** This addresses the \"Data Preprocessing (10%)\" criterion for handling missing data."
   ]
  },
  {
   "cell_type": "code",
   "execution_count": 12,
   "id": "edeec2f8",
   "metadata": {},
   "outputs": [
    {
     "name": "stdout",
     "output_type": "stream",
     "text": [
      "Missing values in critical columns:\n",
      "depth_km    9\n",
      "dtype: int64\n",
      "\n",
      "Rows before: 1707\n",
      "Rows after: 1698\n",
      "Rows removed: 9 (0.53%)\n"
     ]
    }
   ],
   "source": [
    "# Check missing values in critical columns\n",
    "print(\"Missing values in critical columns:\")\n",
    "critical_missing = df[critical_columns].isnull().sum()\n",
    "print(critical_missing[critical_missing > 0])\n",
    "\n",
    "# Count total rows before cleaning\n",
    "rows_before = len(df)\n",
    "\n",
    "# Drop rows with missing critical values\n",
    "df_clean = df.dropna(subset=['latitude', 'longitude', 'magnitude', 'depth_km'])\n",
    "\n",
    "rows_after = len(df_clean)\n",
    "rows_removed = rows_before - rows_after\n",
    "\n",
    "print(f\"\\nRows before: {rows_before}\")\n",
    "print(f\"Rows after: {rows_after}\")\n",
    "print(f\"Rows removed: {rows_removed} ({rows_removed/rows_before*100:.2f}%)\")\n",
    "\n",
    "# Update dataframe\n",
    "df = df_clean.copy()"
   ]
  },
  {
   "cell_type": "markdown",
   "id": "7fdfa3c0",
   "metadata": {},
   "source": [
    "---\n",
    "## 9. Geographic Validation\n",
    "\n",
    "Validating that earthquake locations fall within California boundaries.\n",
    "\n",
    "**California approximate bounds:**\n",
    "- Latitude: 32.5°N to 42.0°N\n",
    "- Longitude: -124.5°W to -114.0°W\n",
    "\n",
    "**Note:** Some earthquakes near borders may fall slightly outside these bounds. This is acceptable as seismic activity doesn't respect political boundaries."
   ]
  },
  {
   "cell_type": "code",
   "execution_count": 13,
   "id": "144251f1",
   "metadata": {},
   "outputs": [
    {
     "name": "stdout",
     "output_type": "stream",
     "text": [
      "Validating geographic bounds for California...\n",
      "Expected bounds: Lat [32.5, 42.0], Lon [-124.5, -114.0]\n",
      "\n",
      "Actual bounds in data:\n",
      "Latitude: [32.05, 41.99]\n",
      "Longitude: [-125.00, -114.03]\n",
      "\n",
      "Records outside California bounds: 113 (6.65%)\n",
      "\n",
      "Sample out-of-bounds records:\n",
      "                      time   latitude   longitude  magnitude\n",
      "7  2015-01-14 10:44:35.040  40.319500 -124.612167       4.28\n",
      "12 2015-01-28 21:08:53.710  40.317833 -124.606667       5.72\n",
      "15 2015-01-29 19:13:55.180  40.311333 -124.589167       4.25\n",
      "21 2015-03-10 07:06:34.830  40.329333 -124.657167       3.79\n",
      "28 2015-04-08 19:23:15.390  32.376000 -115.208500       4.27\n",
      "\n",
      "Keeping all records (border earthquakes may be slightly outside bounds)\n"
     ]
    }
   ],
   "source": [
    "# California approximate bounds\n",
    "CA_BOUNDS = {\n",
    "    'lat_min': 32.5,   # Southern border\n",
    "    'lat_max': 42.0,   # Northern border\n",
    "    'lon_min': -124.5, # Western coast\n",
    "    'lon_max': -114.0  # Eastern border\n",
    "}\n",
    "\n",
    "print(\"Validating geographic bounds for California...\")\n",
    "print(f\"Expected bounds: Lat [{CA_BOUNDS['lat_min']}, {CA_BOUNDS['lat_max']}], \"\n",
    "      f\"Lon [{CA_BOUNDS['lon_min']}, {CA_BOUNDS['lon_max']}]\")\n",
    "\n",
    "# Check actual bounds\n",
    "print(f\"\\nActual bounds in data:\")\n",
    "print(f\"Latitude: [{df['latitude'].min():.2f}, {df['latitude'].max():.2f}]\")\n",
    "print(f\"Longitude: [{df['longitude'].min():.2f}, {df['longitude'].max():.2f}]\")\n",
    "\n",
    "# Count out-of-bounds records\n",
    "out_of_bounds = (\n",
    "    (df['latitude'] < CA_BOUNDS['lat_min']) |\n",
    "    (df['latitude'] > CA_BOUNDS['lat_max']) |\n",
    "    (df['longitude'] < CA_BOUNDS['lon_min']) |\n",
    "    (df['longitude'] > CA_BOUNDS['lon_max'])\n",
    ")\n",
    "\n",
    "n_out_of_bounds = out_of_bounds.sum()\n",
    "print(f\"\\nRecords outside California bounds: {n_out_of_bounds} ({n_out_of_bounds/len(df)*100:.2f}%)\")\n",
    "\n",
    "if n_out_of_bounds > 0:\n",
    "    print(\"\\nSample out-of-bounds records:\")\n",
    "    print(df[out_of_bounds][['time', 'latitude', 'longitude', 'magnitude']].head())\n",
    "    \n",
    "    # Decision: keep or remove?\n",
    "    # Usually keep if they're close (border earthquakes can be slightly outside)\n",
    "    print(\"\\nKeeping all records (border earthquakes may be slightly outside bounds)\")"
   ]
  },
  {
   "cell_type": "markdown",
   "id": "2b198852",
   "metadata": {},
   "source": [
    "---\n",
    "## 10. Magnitude and Depth Validation\n",
    "\n",
    "Validating physical constraints on earthquake measurements.\n",
    "\n",
    "**Validation rules:**\n",
    "- **Magnitude:** Should be between 0 and 10 (Richter scale limit ~9.5, but using 10 as safety margin)\n",
    "- **Depth:** Should be between 0 and 700 km (deepest earthquakes ~700km in subduction zones)\n",
    "\n",
    "Invalid values indicate data errors or quality issues that need removal."
   ]
  },
  {
   "cell_type": "code",
   "execution_count": 14,
   "id": "7ddd48f7",
   "metadata": {},
   "outputs": [
    {
     "name": "stdout",
     "output_type": "stream",
     "text": [
      "Validating magnitude and depth values...\n",
      "\n",
      "Magnitude statistics:\n",
      "count    1698.000000\n",
      "mean        3.893934\n",
      "std         0.418656\n",
      "min         3.500000\n",
      "25%         3.600000\n",
      "50%         3.770000\n",
      "75%         4.067500\n",
      "max         7.100000\n",
      "Name: magnitude, dtype: float64\n",
      "Invalid magnitudes (< 0 or > 10): 0\n",
      "\n",
      "Depth statistics:\n",
      "count    1698.000000\n",
      "mean        8.192887\n",
      "std         5.767580\n",
      "min        -1.920000\n",
      "25%         4.470000\n",
      "50%         7.360000\n",
      "75%        10.317500\n",
      "max        35.680000\n",
      "Name: depth_km, dtype: float64\n",
      "Invalid depths (< 0 or > 700 km): 19\n",
      "\n",
      "Removing 19 records with invalid magnitude/depth\n",
      "\n",
      "Final record count: 1679\n"
     ]
    }
   ],
   "source": [
    "print(\"Validating magnitude and depth values...\")\n",
    "\n",
    "# Magnitude validation\n",
    "print(\"\\nMagnitude statistics:\")\n",
    "print(df['magnitude'].describe())\n",
    "\n",
    "mag_issues = (df['magnitude'] < 0) | (df['magnitude'] > 10)\n",
    "print(f\"Invalid magnitudes (< 0 or > 10): {mag_issues.sum()}\")\n",
    "\n",
    "# Depth validation\n",
    "print(\"\\nDepth statistics:\")\n",
    "print(df['depth_km'].describe())\n",
    "\n",
    "depth_issues = (df['depth_km'] < 0) | (df['depth_km'] > 700)\n",
    "print(f\"Invalid depths (< 0 or > 700 km): {depth_issues.sum()}\")\n",
    "\n",
    "# Remove invalid records\n",
    "invalid_records = mag_issues | depth_issues\n",
    "if invalid_records.sum() > 0:\n",
    "    print(f\"\\nRemoving {invalid_records.sum()} records with invalid magnitude/depth\")\n",
    "    df = df[~invalid_records].reset_index(drop=True)\n",
    "\n",
    "print(f\"\\nFinal record count: {len(df)}\")"
   ]
  },
  {
   "cell_type": "markdown",
   "id": "d8d7baa5",
   "metadata": {},
   "source": [
    "---\n",
    "## 11. Duplicate Detection and Removal\n",
    "\n",
    "Checking for duplicate records that could bias model training.\n",
    "\n",
    "**Types of duplicates checked:**\n",
    "1. **Exact duplicates:** Identical rows (rare)\n",
    "2. **Duplicate event IDs:** Same earthquake recorded twice\n",
    "3. **Near-duplicates:** Same location/time/magnitude (may be legitimate aftershocks)\n",
    "\n",
    "**Strategy:** Remove duplicate event IDs, keep near-duplicates (may be real earthquake sequences)."
   ]
  },
  {
   "cell_type": "code",
   "execution_count": 15,
   "id": "dacefa44",
   "metadata": {},
   "outputs": [
    {
     "name": "stdout",
     "output_type": "stream",
     "text": [
      "Checking for duplicate records...\n",
      "Exact duplicate rows: 0\n",
      "Duplicate event IDs: 0\n",
      "\n",
      "Near-duplicate earthquakes (same location/time/magnitude within rounding): 1\n",
      "Keeping all records (may be legitimate earthquake sequences)\n"
     ]
    }
   ],
   "source": [
    "print(\"Checking for duplicate records...\")\n",
    "\n",
    "# Check for exact duplicates\n",
    "exact_duplicates = df.duplicated().sum()\n",
    "print(f\"Exact duplicate rows: {exact_duplicates}\")\n",
    "\n",
    "# Check for duplicate event IDs\n",
    "if 'event_id' in df.columns:\n",
    "    duplicate_ids = df['event_id'].duplicated().sum()\n",
    "    print(f\"Duplicate event IDs: {duplicate_ids}\")\n",
    "    \n",
    "    if duplicate_ids > 0:\n",
    "        print(\"\\nRemoving duplicate event IDs (keeping first occurrence)...\")\n",
    "        df = df.drop_duplicates(subset=['event_id'], keep='first').reset_index(drop=True)\n",
    "        print(f\"Records after deduplication: {len(df)}\")\n",
    "\n",
    "# Check for near-duplicate earthquakes (same location, time, magnitude)\n",
    "# Group by rounded values to find potential duplicates\n",
    "df_temp = df.copy()\n",
    "df_temp['lat_round'] = df_temp['latitude'].round(3)\n",
    "df_temp['lon_round'] = df_temp['longitude'].round(3)\n",
    "df_temp['mag_round'] = df_temp['magnitude'].round(1)\n",
    "df_temp['time_hour'] = df_temp['time'].dt.floor('H')\n",
    "\n",
    "near_duplicates = df_temp.duplicated(subset=['lat_round', 'lon_round', 'mag_round', 'time_hour']).sum()\n",
    "print(f\"\\nNear-duplicate earthquakes (same location/time/magnitude within rounding): {near_duplicates}\")\n",
    "\n",
    "if near_duplicates > 0 and near_duplicates < 50:\n",
    "    print(\"Keeping all records (may be legitimate earthquake sequences)\")"
   ]
  },
  {
   "cell_type": "markdown",
   "id": "1f1a085f",
   "metadata": {},
   "source": [
    "---\n",
    "## 12. Chronological Sorting\n",
    "\n",
    "Sorting data by time for temporal analysis and sequential modeling.\n",
    "\n",
    "**Why this matters:**\n",
    "- Required for LSTM time series analysis\n",
    "- Enables calculation of \"time since last event\" features\n",
    "- Facilitates temporal pattern discovery"
   ]
  },
  {
   "cell_type": "code",
   "execution_count": 16,
   "id": "d45f6a91",
   "metadata": {},
   "outputs": [
    {
     "name": "stdout",
     "output_type": "stream",
     "text": [
      "Data sorted chronologically\n",
      "\n",
      "First earthquake: 2015-01-04 03:18:09.480000\n",
      "Last earthquake: 2024-12-29 00:21:10.260000\n",
      "Time span: 3646 days\n",
      "\n",
      "Earthquakes by year:\n",
      "year\n",
      "2015    101\n",
      "2016     87\n",
      "2017     72\n",
      "2018     60\n",
      "2019    501\n",
      "2020    323\n",
      "2021    173\n",
      "2022     95\n",
      "2023    108\n",
      "2024    159\n",
      "Name: count, dtype: int64\n"
     ]
    }
   ],
   "source": [
    "# Sort by time for temporal analysis\n",
    "df = df.sort_values('time').reset_index(drop=True)\n",
    "\n",
    "print(\"Data sorted chronologically\")\n",
    "print(f\"\\nFirst earthquake: {df['time'].iloc[0]}\")\n",
    "print(f\"Last earthquake: {df['time'].iloc[-1]}\")\n",
    "print(f\"Time span: {(df['time'].iloc[-1] - df['time'].iloc[0]).days} days\")\n",
    "\n",
    "# Show temporal distribution\n",
    "print(f\"\\nEarthquakes by year:\")\n",
    "print(df['year'].value_counts().sort_index())"
   ]
  },
  {
   "cell_type": "markdown",
   "id": "6dbcdc0d",
   "metadata": {},
   "source": [
    "---\n",
    "## 13. Final Data Quality Summary\n",
    "\n",
    "Comprehensive overview of cleaned dataset quality and characteristics."
   ]
  },
  {
   "cell_type": "code",
   "execution_count": 17,
   "id": "844020ee",
   "metadata": {},
   "outputs": [
    {
     "name": "stdout",
     "output_type": "stream",
     "text": [
      "================================================================================\n",
      "FINAL DATA QUALITY SUMMARY\n",
      "================================================================================\n",
      "\n",
      "Dataset shape: (1679, 25)\n",
      "Total earthquakes: 1679\n",
      "Date range: 2015-01-04 03:18:09.480000 to 2024-12-29 00:21:10.260000\n",
      "\n",
      "📊 Key Statistics:\n",
      "  Magnitude range: 3.5 - 7.1\n",
      "  Median magnitude: 3.8\n",
      "  Depth range: 0.1 - 35.7 km\n",
      "  Median depth: 7.4 km\n",
      "\n",
      "📍 Geographic Coverage:\n",
      "  Latitude: 32.05° to 41.99°\n",
      "  Longitude: -125.00° to -114.03°\n",
      "\n",
      "✓ Data Completeness:\n",
      "  Overall completeness: 99.95%\n",
      "  Missing values in critical columns: 0\n",
      "\n",
      "📅 Temporal Features:\n",
      "  Time features created: 10\n",
      "  Years covered: 10\n"
     ]
    }
   ],
   "source": [
    "print(\"=\"*80)\n",
    "print(\"FINAL DATA QUALITY SUMMARY\")\n",
    "print(\"=\"*80)\n",
    "\n",
    "print(f\"\\nDataset shape: {df.shape}\")\n",
    "print(f\"Total earthquakes: {len(df)}\")\n",
    "print(f\"Date range: {df['time'].min()} to {df['time'].max()}\")\n",
    "\n",
    "print(f\"\\n📊 Key Statistics:\")\n",
    "print(f\"  Magnitude range: {df['magnitude'].min():.1f} - {df['magnitude'].max():.1f}\")\n",
    "print(f\"  Median magnitude: {df['magnitude'].median():.1f}\")\n",
    "print(f\"  Depth range: {df['depth_km'].min():.1f} - {df['depth_km'].max():.1f} km\")\n",
    "print(f\"  Median depth: {df['depth_km'].median():.1f} km\")\n",
    "\n",
    "print(f\"\\n📍 Geographic Coverage:\")\n",
    "print(f\"  Latitude: {df['latitude'].min():.2f}° to {df['latitude'].max():.2f}°\")\n",
    "print(f\"  Longitude: {df['longitude'].min():.2f}° to {df['longitude'].max():.2f}°\")\n",
    "\n",
    "print(f\"\\n✓ Data Completeness:\")\n",
    "total_missing = df.isnull().sum().sum()\n",
    "total_cells = df.shape[0] * df.shape[1]\n",
    "completeness = (1 - total_missing/total_cells) * 100\n",
    "print(f\"  Overall completeness: {completeness:.2f}%\")\n",
    "print(f\"  Missing values in critical columns: {df[critical_columns].isnull().sum().sum()}\")\n",
    "\n",
    "print(f\"\\n📅 Temporal Features:\")\n",
    "print(f\"  Time features created: {len(time_features)}\")\n",
    "print(f\"  Years covered: {df['year'].nunique()}\")"
   ]
  },
  {
   "cell_type": "markdown",
   "id": "b6e32b6e",
   "metadata": {},
   "source": [
    "---\n",
    "## 14. Final Column Selection\n",
    "\n",
    "Selecting and organizing columns for the cleaned dataset.\n",
    "\n",
    "**Column categories:**\n",
    "- **Identifiers:** event_id\n",
    "- **Temporal:** time, timestamp, and extracted time features\n",
    "- **Spatial:** latitude, longitude, depth_km\n",
    "- **Magnitude:** magnitude (primary target variable)\n",
    "- **Metadata:** place, type, magType, status (if available)"
   ]
  },
  {
   "cell_type": "code",
   "execution_count": 18,
   "id": "a799626c",
   "metadata": {},
   "outputs": [
    {
     "name": "stdout",
     "output_type": "stream",
     "text": [
      "Selected 16 columns for cleaned dataset:\n",
      "['event_id', 'time', 'timestamp', 'year', 'month', 'day', 'hour', 'minute', 'day_of_week', 'day_of_year', 'quarter', 'is_weekend', 'latitude', 'longitude', 'depth_km', 'magnitude']\n",
      "\n",
      "Final cleaned dataset shape: (1679, 16)\n"
     ]
    }
   ],
   "source": [
    "# Select columns to keep in cleaned dataset\n",
    "keep_columns = [\n",
    "    # Identifiers\n",
    "    'event_id',\n",
    "    \n",
    "    # Time (original and extracted features)\n",
    "    'time', 'timestamp',\n",
    "    'year', 'month', 'day', 'hour', 'minute',\n",
    "    'day_of_week', 'day_of_year', 'quarter', 'is_weekend',\n",
    "    \n",
    "    # Location\n",
    "    'latitude', 'longitude', 'depth_km',\n",
    "    \n",
    "    # Magnitude\n",
    "    'magnitude',\n",
    "]\n",
    "\n",
    "# Add optional columns if they exist\n",
    "optional_columns = ['place', 'type', 'magType', 'status', 'nst', 'gap', 'dmin', 'rms']\n",
    "for col in optional_columns:\n",
    "    if col in df.columns:\n",
    "        keep_columns.append(col)\n",
    "\n",
    "# Filter to keep only selected columns\n",
    "available_keep = [col for col in keep_columns if col in df.columns]\n",
    "df_final = df[available_keep].copy()\n",
    "\n",
    "print(f\"Selected {len(available_keep)} columns for cleaned dataset:\")\n",
    "print(available_keep)\n",
    "\n",
    "print(f\"\\nFinal cleaned dataset shape: {df_final.shape}\")"
   ]
  },
  {
   "cell_type": "markdown",
   "id": "64cb91ff",
   "metadata": {},
   "source": [
    "---\n",
    "## 15. Save Cleaned Dataset\n",
    "\n",
    "Saving the processed data for use in feature engineering.\n",
    "\n",
    "**Outputs:**\n",
    "1. `earthquakes_cleaned.csv` - Main cleaned dataset\n",
    "2. `preprocessing_summary.txt` - Text summary of preprocessing steps\n",
    "3. Ready for next notebook: `03_feature_engineering.ipynb`\n",
    "\n",
    "**For GitHub:** This cleaned dataset should be committed to track data quality improvements."
   ]
  },
  {
   "cell_type": "code",
   "execution_count": 19,
   "id": "108b2cec",
   "metadata": {},
   "outputs": [
    {
     "name": "stdout",
     "output_type": "stream",
     "text": [
      "✓ Cleaned dataset saved to: ../data/processed/earthquakes_cleaned.csv\n",
      "  File size: 216.13 KB\n",
      "✓ Summary report saved to: ../data/processed/preprocessing_summary.txt\n"
     ]
    }
   ],
   "source": [
    "# Create output directory if it doesn't exist\n",
    "import os\n",
    "os.makedirs('../data/processed', exist_ok=True)\n",
    "\n",
    "# Save cleaned dataset\n",
    "output_file = '../data/processed/earthquakes_cleaned.csv'\n",
    "df_final.to_csv(output_file, index=False)\n",
    "\n",
    "print(f\"✓ Cleaned dataset saved to: {output_file}\")\n",
    "print(f\"  File size: {os.path.getsize(output_file) / 1024:.2f} KB\")\n",
    "\n",
    "# Also save a summary report\n",
    "summary_file = '../data/processed/preprocessing_summary.txt'\n",
    "with open(summary_file, 'w') as f:\n",
    "    f.write(\"CALIFORNIA EARTHQUAKE DATA PREPROCESSING SUMMARY\\n\")\n",
    "    f.write(\"=\"*80 + \"\\n\\n\")\n",
    "    f.write(f\"Processing date: {datetime.now()}\\n\")\n",
    "    f.write(f\"Input file: data/raw/california_earthquakes.csv\\n\")\n",
    "    f.write(f\"Output file: {output_file}\\n\\n\")\n",
    "    f.write(f\"Records: {len(df_final)}\\n\")\n",
    "    f.write(f\"Features: {len(df_final.columns)}\\n\")\n",
    "    f.write(f\"Date range: {df_final['time'].min()} to {df_final['time'].max()}\\n\")\n",
    "    f.write(f\"Completeness: {completeness:.2f}%\\n\\n\")\n",
    "    f.write(\"Columns:\\n\")\n",
    "    for col in df_final.columns:\n",
    "        f.write(f\"  - {col}\\n\")\n",
    "\n",
    "print(f\"✓ Summary report saved to: {summary_file}\")"
   ]
  },
  {
   "cell_type": "markdown",
   "id": "8b19436a",
   "metadata": {},
   "source": [
    "---\n",
    "## 16. Visualization of Cleaned Data\n",
    "\n",
    "Creating summary visualizations to verify data quality and distributions.\n",
    "\n",
    "**Visualizations:**\n",
    "1. **Magnitude distribution** - Verify expected frequency-magnitude relationship\n",
    "2. **Depth distribution** - Check for realistic depth patterns\n",
    "3. **Temporal distribution** - Ensure consistent coverage across years\n",
    "4. **Spatial distribution** - Verify California geographic coverage"
   ]
  },
  {
   "cell_type": "code",
   "execution_count": 20,
   "id": "f320da7d",
   "metadata": {},
   "outputs": [
    {
     "data": {
      "image/png": "[encoded data removed]",
      "text/plain": [
       "<Figure size 1400x1000 with 5 Axes>"
      ]
     },
     "metadata": {},
     "output_type": "display_data"
    },
    {
     "name": "stdout",
     "output_type": "stream",
     "text": [
      "✓ Visualization saved to: data/processed/cleaned_data_overview.png\n"
     ]
    }
   ],
   "source": [
    "# Create a quick visualization dashboard\n",
    "fig, axes = plt.subplots(2, 2, figsize=(14, 10))\n",
    "\n",
    "# 1. Magnitude distribution\n",
    "axes[0, 0].hist(df_final['magnitude'], bins=30, edgecolor='black', alpha=0.7)\n",
    "axes[0, 0].set_xlabel('Magnitude')\n",
    "axes[0, 0].set_ylabel('Frequency')\n",
    "axes[0, 0].set_title('Magnitude Distribution')\n",
    "axes[0, 0].grid(alpha=0.3)\n",
    "\n",
    "# 2. Depth distribution\n",
    "axes[0, 1].hist(df_final['depth_km'], bins=30, edgecolor='black', alpha=0.7, color='coral')\n",
    "axes[0, 1].set_xlabel('Depth (km)')\n",
    "axes[0, 1].set_ylabel('Frequency')\n",
    "axes[0, 1].set_title('Depth Distribution')\n",
    "axes[0, 1].grid(alpha=0.3)\n",
    "\n",
    "# 3. Temporal distribution\n",
    "yearly_counts = df_final['year'].value_counts().sort_index()\n",
    "axes[1, 0].bar(yearly_counts.index, yearly_counts.values, edgecolor='black', alpha=0.7, color='green')\n",
    "axes[1, 0].set_xlabel('Year')\n",
    "axes[1, 0].set_ylabel('Number of Earthquakes')\n",
    "axes[1, 0].set_title('Earthquakes by Year')\n",
    "axes[1, 0].grid(axis='y', alpha=0.3)\n",
    "\n",
    "# 4. Spatial distribution\n",
    "scatter = axes[1, 1].scatter(df_final['longitude'], df_final['latitude'], \n",
    "                             c=df_final['magnitude'], cmap='YlOrRd', \n",
    "                             s=10, alpha=0.6, edgecolors='black', linewidths=0.3)\n",
    "axes[1, 1].set_xlabel('Longitude')\n",
    "axes[1, 1].set_ylabel('Latitude')\n",
    "axes[1, 1].set_title('Spatial Distribution (colored by magnitude)')\n",
    "plt.colorbar(scatter, ax=axes[1, 1], label='Magnitude')\n",
    "\n",
    "plt.tight_layout()\n",
    "plt.savefig('../data/processed/cleaned_data_overview.png', dpi=300, bbox_inches='tight')\n",
    "plt.show()\n",
    "\n",
    "print(\"✓ Visualization saved to: data/processed/cleaned_data_overview.png\")"
   ]
  }
 ],
 "metadata": {
  "kernelspec": {
   "display_name": "seismic-gnn",
   "language": "python",
   "name": "python3"
  },
  "language_info": {
   "codemirror_mode": {
    "name": "ipython",
    "version": 3
   },
   "file_extension": ".py",
   "mimetype": "text/x-python",
   "name": "python",
   "nbconvert_exporter": "python",
   "pygments_lexer": "ipython3",
   "version": "3.11.13"
  }
 },
 "nbformat": 4,
 "nbformat_minor": 5
}
