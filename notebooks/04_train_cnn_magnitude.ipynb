{
 "cells": [
  {
   "cell_type": "markdown",
   "id": "c78dfdb0",
   "metadata": {},
   "source": [
    "Location Testing and TensorFlow Installation Testing"
   ]
  },
  {
   "cell_type": "code",
   "execution_count": 33,
   "id": "a09ab2cd",
   "metadata": {},
   "outputs": [
    {
     "name": "stdout",
     "output_type": "stream",
     "text": [
      "✓ Notebook dir: D:\\_4TH_YEAR_1ST_SEMESTER_STUFF\\DL\\DL Final Assignment\\Seismic-GNN-Prediction\\notebooks\n",
      "✓ Project root: D:\\_4TH_YEAR_1ST_SEMESTER_STUFF\\DL\\DL Final Assignment\\Seismic-GNN-Prediction\n",
      "✓ models/cnn exists: True\n",
      "✓ TensorFlow version: 2.17.1\n",
      "GPUs available: None (CPU mode)\n"
     ]
    }
   ],
   "source": [
    "import sys, pathlib, importlib\n",
    "\n",
    "\n",
    "def find_project_root(start: pathlib.Path, max_up=5):\n",
    "    p = start\n",
    "    for _ in range(max_up):\n",
    "        if (p / \"models\" / \"cnn\").exists():\n",
    "            return p\n",
    "        p = p.parent\n",
    "    return start  \n",
    "\n",
    "NOTEBOOK_DIR = pathlib.Path().resolve()\n",
    "PROJECT_ROOT = find_project_root(NOTEBOOK_DIR)\n",
    "\n",
    "if str(PROJECT_ROOT) not in sys.path:\n",
    "    sys.path.insert(0, str(PROJECT_ROOT))\n",
    "\n",
    "print(\"✓ Notebook dir:\", NOTEBOOK_DIR)\n",
    "print(\"✓ Project root:\", PROJECT_ROOT)\n",
    "print(\"✓ models/cnn exists:\", (PROJECT_ROOT / \"models\" / \"cnn\").exists())\n",
    "\n",
    "tf_spec = importlib.util.find_spec(\"tensorflow\")\n",
    "if tf_spec is None:\n",
    "    print(\"⚠️ TensorFlow not found — install it with one of the lines at the top and re-run this cell.\")\n",
    "else:\n",
    "    import tensorflow as tf\n",
    "    print(\"✓ TensorFlow version:\", tf.__version__)\n",
    "    try:\n",
    "        gpus = tf.config.list_physical_devices('GPU')\n",
    "        print(\"GPUs available:\", gpus if gpus else \"None (CPU mode)\")\n",
    "    except Exception as e:\n",
    "        print(\"GPU check error:\", e)\n"
   ]
  },
  {
   "cell_type": "markdown",
   "id": "6557989e",
   "metadata": {},
   "source": [
    "Checking for Cached Arrays and Fallback CSVs"
   ]
  },
  {
   "cell_type": "code",
   "execution_count": 34,
   "id": "f0f8926b",
   "metadata": {},
   "outputs": [
    {
     "name": "stdout",
     "output_type": "stream",
     "text": [
      "Looking for pre-exported arrays from your notebooks:\n",
      "  X_train  -> D:\\_4TH_YEAR_1ST_SEMESTER_STUFF\\DL\\DL Final Assignment\\Seismic-GNN-Prediction\\data\\processed\\model_ready\\X_train_cnn.npy  ✓\n",
      "  y_train  -> D:\\_4TH_YEAR_1ST_SEMESTER_STUFF\\DL\\DL Final Assignment\\Seismic-GNN-Prediction\\data\\processed\\model_ready\\y_train_cnn.npy  ✓\n",
      "  X_val    -> D:\\_4TH_YEAR_1ST_SEMESTER_STUFF\\DL\\DL Final Assignment\\Seismic-GNN-Prediction\\data\\processed\\model_ready\\X_val_cnn.npy  ✓\n",
      "  y_val    -> D:\\_4TH_YEAR_1ST_SEMESTER_STUFF\\DL\\DL Final Assignment\\Seismic-GNN-Prediction\\data\\processed\\model_ready\\y_val_cnn.npy  ✓\n",
      "  X_test   -> D:\\_4TH_YEAR_1ST_SEMESTER_STUFF\\DL\\DL Final Assignment\\Seismic-GNN-Prediction\\data\\processed\\model_ready\\X_test_cnn.npy  ✓\n",
      "  y_test   -> D:\\_4TH_YEAR_1ST_SEMESTER_STUFF\\DL\\DL Final Assignment\\Seismic-GNN-Prediction\\data\\processed\\model_ready\\y_test_cnn.npy  ✓\n",
      "\n",
      "Fallback single table (used to rebuild 50×50×1):\n",
      "  D:\\_4TH_YEAR_1ST_SEMESTER_STUFF\\DL\\DL Final Assignment\\Seismic-GNN-Prediction\\data\\interim\\quakes_clean.csv   ✓\n",
      "Expect columns: time latitude longitude magnitude\n"
     ]
    }
   ],
   "source": [
    "from importlib import reload\n",
    "import models.cnn.config as cfg\n",
    "reload(cfg)\n",
    "\n",
    "print(\"Looking for pre-exported arrays from your notebooks:\")\n",
    "for k, path in cfg.Xy_FILES.items():\n",
    "    print(f\"  {k:8s} -> {path}  {'✓' if path.exists() else '✗'}\")\n",
    "\n",
    "print(\"\\nFallback single table (used to rebuild 50×50×1):\")\n",
    "print(\" \", cfg.FALLBACK_DATA, \" \", \"✓\" if cfg.FALLBACK_DATA.exists() else \"✗\")\n",
    "print(\"Expect columns:\", cfg.TIME_COL, cfg.LAT_COL, cfg.LON_COL, cfg.MAG_COL)\n"
   ]
  },
  {
   "cell_type": "markdown",
   "id": "b516a357",
   "metadata": {},
   "source": [
    "Rebuild 50×50 density-only windows"
   ]
  },
  {
   "cell_type": "code",
   "execution_count": 35,
   "id": "4619af4b",
   "metadata": {},
   "outputs": [
    {
     "name": "stdout",
     "output_type": "stream",
     "text": [
      "X_train: (1159, 50, 50, 1) | y_train: (1159,)\n",
      "X_val:   (248, 50, 50, 1) | y_val: (248,)\n",
      "X_test:  (250, 50, 50, 1) | y_test: (250,)\n"
     ]
    }
   ],
   "source": [
    "import importlib, models.cnn.data as data\n",
    "importlib.reload(data)  # ensure latest code\n",
    "\n",
    "X_train, y_train, X_val, y_val, X_test, y_test = data.load_data(force_rebuild=True)\n",
    "print(\"X_train:\", X_train.shape, \"| y_train:\", y_train.shape)\n",
    "print(\"X_val:  \", X_val.shape,   \"| y_val:\", y_val.shape)\n",
    "print(\"X_test: \", X_test.shape,  \"| y_test:\", y_test.shape)\n",
    "\n",
    "if X_train.shape[1:3] != (50,50) or X_train.shape[-1] != 1:\n",
    "    print(\"⚠️ Not 50×50×1 — check cfg.GRID_SIZE=50, DENSITY_ONLY=True, and that FALLBACK_DATA CSV exists & columns match.\")\n"
   ]
  },
  {
   "cell_type": "markdown",
   "id": "3e9c1a30",
   "metadata": {},
   "source": [
    "Overwrite the cached arrays"
   ]
  },
  {
   "cell_type": "code",
   "execution_count": 36,
   "id": "7b64c6fb",
   "metadata": {},
   "outputs": [
    {
     "name": "stdout",
     "output_type": "stream",
     "text": [
      "✓ Saved 50×50×1 arrays to D:\\_4TH_YEAR_1ST_SEMESTER_STUFF\\DL\\DL Final Assignment\\Seismic-GNN-Prediction\\data\\processed\\model_ready\n"
     ]
    }
   ],
   "source": [
    "from pathlib import Path\n",
    "import numpy as np\n",
    "\n",
    "outdir = cfg.PROCESSED\n",
    "outdir.mkdir(parents=True, exist_ok=True)\n",
    "\n",
    "np.save(outdir / \"X_train_cnn.npy\", X_train)\n",
    "np.save(outdir / \"y_train_cnn.npy\", y_train)\n",
    "np.save(outdir / \"X_val_cnn.npy\",   X_val)\n",
    "np.save(outdir / \"y_val_cnn.npy\",   y_val)\n",
    "np.save(outdir / \"X_test_cnn.npy\",  X_test)\n",
    "np.save(outdir / \"y_test_cnn.npy\",  y_test)\n",
    "\n",
    "print(\"✓ Saved 50×50×1 arrays to\", outdir)\n"
   ]
  },
  {
   "cell_type": "markdown",
   "id": "ab7376c2",
   "metadata": {},
   "source": [
    "Train the CNN"
   ]
  },
  {
   "cell_type": "code",
   "execution_count": 37,
   "id": "f4bd8be8",
   "metadata": {},
   "outputs": [
    {
     "name": "stdout",
     "output_type": "stream",
     "text": [
      "utils has: ['ensure_dir', 'plot_learning_curves']\n"
     ]
    },
    {
     "data": {
      "text/html": [
       "<pre style=\"white-space:pre;overflow-x:auto;line-height:normal;font-family:Menlo,'DejaVu Sans Mono',consolas,'Courier New',monospace\"><span style=\"font-weight: bold\">Model: \"functional_1\"</span>\n",
       "</pre>\n"
      ],
      "text/plain": [
       "\u001b[1mModel: \"functional_1\"\u001b[0m\n"
      ]
     },
     "metadata": {},
     "output_type": "display_data"
    },
    {
     "data": {
      "text/html": [
       "<pre style=\"white-space:pre;overflow-x:auto;line-height:normal;font-family:Menlo,'DejaVu Sans Mono',consolas,'Courier New',monospace\">┏━━━━━━━━━━━━━━━━━━━━━━━━━━━━━━━━━┳━━━━━━━━━━━━━━━━━━━━━━━━┳━━━━━━━━━━━━━━━┓\n",
       "┃<span style=\"font-weight: bold\"> Layer (type)                    </span>┃<span style=\"font-weight: bold\"> Output Shape           </span>┃<span style=\"font-weight: bold\">       Param # </span>┃\n",
       "┡━━━━━━━━━━━━━━━━━━━━━━━━━━━━━━━━━╇━━━━━━━━━━━━━━━━━━━━━━━━╇━━━━━━━━━━━━━━━┩\n",
       "│ input_layer_1 (<span style=\"color: #0087ff; text-decoration-color: #0087ff\">InputLayer</span>)      │ (<span style=\"color: #00d7ff; text-decoration-color: #00d7ff\">None</span>, <span style=\"color: #00af00; text-decoration-color: #00af00\">50</span>, <span style=\"color: #00af00; text-decoration-color: #00af00\">50</span>, <span style=\"color: #00af00; text-decoration-color: #00af00\">1</span>)      │             <span style=\"color: #00af00; text-decoration-color: #00af00\">0</span> │\n",
       "├─────────────────────────────────┼────────────────────────┼───────────────┤\n",
       "│ conv2d_2 (<span style=\"color: #0087ff; text-decoration-color: #0087ff\">Conv2D</span>)               │ (<span style=\"color: #00d7ff; text-decoration-color: #00d7ff\">None</span>, <span style=\"color: #00af00; text-decoration-color: #00af00\">50</span>, <span style=\"color: #00af00; text-decoration-color: #00af00\">50</span>, <span style=\"color: #00af00; text-decoration-color: #00af00\">32</span>)     │           <span style=\"color: #00af00; text-decoration-color: #00af00\">320</span> │\n",
       "├─────────────────────────────────┼────────────────────────┼───────────────┤\n",
       "│ max_pooling2d_2 (<span style=\"color: #0087ff; text-decoration-color: #0087ff\">MaxPooling2D</span>)  │ (<span style=\"color: #00d7ff; text-decoration-color: #00d7ff\">None</span>, <span style=\"color: #00af00; text-decoration-color: #00af00\">25</span>, <span style=\"color: #00af00; text-decoration-color: #00af00\">25</span>, <span style=\"color: #00af00; text-decoration-color: #00af00\">32</span>)     │             <span style=\"color: #00af00; text-decoration-color: #00af00\">0</span> │\n",
       "├─────────────────────────────────┼────────────────────────┼───────────────┤\n",
       "│ conv2d_3 (<span style=\"color: #0087ff; text-decoration-color: #0087ff\">Conv2D</span>)               │ (<span style=\"color: #00d7ff; text-decoration-color: #00d7ff\">None</span>, <span style=\"color: #00af00; text-decoration-color: #00af00\">25</span>, <span style=\"color: #00af00; text-decoration-color: #00af00\">25</span>, <span style=\"color: #00af00; text-decoration-color: #00af00\">64</span>)     │        <span style=\"color: #00af00; text-decoration-color: #00af00\">18,496</span> │\n",
       "├─────────────────────────────────┼────────────────────────┼───────────────┤\n",
       "│ max_pooling2d_3 (<span style=\"color: #0087ff; text-decoration-color: #0087ff\">MaxPooling2D</span>)  │ (<span style=\"color: #00d7ff; text-decoration-color: #00d7ff\">None</span>, <span style=\"color: #00af00; text-decoration-color: #00af00\">12</span>, <span style=\"color: #00af00; text-decoration-color: #00af00\">12</span>, <span style=\"color: #00af00; text-decoration-color: #00af00\">64</span>)     │             <span style=\"color: #00af00; text-decoration-color: #00af00\">0</span> │\n",
       "├─────────────────────────────────┼────────────────────────┼───────────────┤\n",
       "│ flatten_1 (<span style=\"color: #0087ff; text-decoration-color: #0087ff\">Flatten</span>)             │ (<span style=\"color: #00d7ff; text-decoration-color: #00d7ff\">None</span>, <span style=\"color: #00af00; text-decoration-color: #00af00\">9216</span>)           │             <span style=\"color: #00af00; text-decoration-color: #00af00\">0</span> │\n",
       "├─────────────────────────────────┼────────────────────────┼───────────────┤\n",
       "│ dense_1 (<span style=\"color: #0087ff; text-decoration-color: #0087ff\">Dense</span>)                 │ (<span style=\"color: #00d7ff; text-decoration-color: #00d7ff\">None</span>, <span style=\"color: #00af00; text-decoration-color: #00af00\">1</span>)              │         <span style=\"color: #00af00; text-decoration-color: #00af00\">9,217</span> │\n",
       "└─────────────────────────────────┴────────────────────────┴───────────────┘\n",
       "</pre>\n"
      ],
      "text/plain": [
       "┏━━━━━━━━━━━━━━━━━━━━━━━━━━━━━━━━━┳━━━━━━━━━━━━━━━━━━━━━━━━┳━━━━━━━━━━━━━━━┓\n",
       "┃\u001b[1m \u001b[0m\u001b[1mLayer (type)                   \u001b[0m\u001b[1m \u001b[0m┃\u001b[1m \u001b[0m\u001b[1mOutput Shape          \u001b[0m\u001b[1m \u001b[0m┃\u001b[1m \u001b[0m\u001b[1m      Param #\u001b[0m\u001b[1m \u001b[0m┃\n",
       "┡━━━━━━━━━━━━━━━━━━━━━━━━━━━━━━━━━╇━━━━━━━━━━━━━━━━━━━━━━━━╇━━━━━━━━━━━━━━━┩\n",
       "│ input_layer_1 (\u001b[38;5;33mInputLayer\u001b[0m)      │ (\u001b[38;5;45mNone\u001b[0m, \u001b[38;5;34m50\u001b[0m, \u001b[38;5;34m50\u001b[0m, \u001b[38;5;34m1\u001b[0m)      │             \u001b[38;5;34m0\u001b[0m │\n",
       "├─────────────────────────────────┼────────────────────────┼───────────────┤\n",
       "│ conv2d_2 (\u001b[38;5;33mConv2D\u001b[0m)               │ (\u001b[38;5;45mNone\u001b[0m, \u001b[38;5;34m50\u001b[0m, \u001b[38;5;34m50\u001b[0m, \u001b[38;5;34m32\u001b[0m)     │           \u001b[38;5;34m320\u001b[0m │\n",
       "├─────────────────────────────────┼────────────────────────┼───────────────┤\n",
       "│ max_pooling2d_2 (\u001b[38;5;33mMaxPooling2D\u001b[0m)  │ (\u001b[38;5;45mNone\u001b[0m, \u001b[38;5;34m25\u001b[0m, \u001b[38;5;34m25\u001b[0m, \u001b[38;5;34m32\u001b[0m)     │             \u001b[38;5;34m0\u001b[0m │\n",
       "├─────────────────────────────────┼────────────────────────┼───────────────┤\n",
       "│ conv2d_3 (\u001b[38;5;33mConv2D\u001b[0m)               │ (\u001b[38;5;45mNone\u001b[0m, \u001b[38;5;34m25\u001b[0m, \u001b[38;5;34m25\u001b[0m, \u001b[38;5;34m64\u001b[0m)     │        \u001b[38;5;34m18,496\u001b[0m │\n",
       "├─────────────────────────────────┼────────────────────────┼───────────────┤\n",
       "│ max_pooling2d_3 (\u001b[38;5;33mMaxPooling2D\u001b[0m)  │ (\u001b[38;5;45mNone\u001b[0m, \u001b[38;5;34m12\u001b[0m, \u001b[38;5;34m12\u001b[0m, \u001b[38;5;34m64\u001b[0m)     │             \u001b[38;5;34m0\u001b[0m │\n",
       "├─────────────────────────────────┼────────────────────────┼───────────────┤\n",
       "│ flatten_1 (\u001b[38;5;33mFlatten\u001b[0m)             │ (\u001b[38;5;45mNone\u001b[0m, \u001b[38;5;34m9216\u001b[0m)           │             \u001b[38;5;34m0\u001b[0m │\n",
       "├─────────────────────────────────┼────────────────────────┼───────────────┤\n",
       "│ dense_1 (\u001b[38;5;33mDense\u001b[0m)                 │ (\u001b[38;5;45mNone\u001b[0m, \u001b[38;5;34m1\u001b[0m)              │         \u001b[38;5;34m9,217\u001b[0m │\n",
       "└─────────────────────────────────┴────────────────────────┴───────────────┘\n"
      ]
     },
     "metadata": {},
     "output_type": "display_data"
    },
    {
     "data": {
      "text/html": [
       "<pre style=\"white-space:pre;overflow-x:auto;line-height:normal;font-family:Menlo,'DejaVu Sans Mono',consolas,'Courier New',monospace\"><span style=\"font-weight: bold\"> Total params: </span><span style=\"color: #00af00; text-decoration-color: #00af00\">28,033</span> (109.50 KB)\n",
       "</pre>\n"
      ],
      "text/plain": [
       "\u001b[1m Total params: \u001b[0m\u001b[38;5;34m28,033\u001b[0m (109.50 KB)\n"
      ]
     },
     "metadata": {},
     "output_type": "display_data"
    },
    {
     "data": {
      "text/html": [
       "<pre style=\"white-space:pre;overflow-x:auto;line-height:normal;font-family:Menlo,'DejaVu Sans Mono',consolas,'Courier New',monospace\"><span style=\"font-weight: bold\"> Trainable params: </span><span style=\"color: #00af00; text-decoration-color: #00af00\">28,033</span> (109.50 KB)\n",
       "</pre>\n"
      ],
      "text/plain": [
       "\u001b[1m Trainable params: \u001b[0m\u001b[38;5;34m28,033\u001b[0m (109.50 KB)\n"
      ]
     },
     "metadata": {},
     "output_type": "display_data"
    },
    {
     "data": {
      "text/html": [
       "<pre style=\"white-space:pre;overflow-x:auto;line-height:normal;font-family:Menlo,'DejaVu Sans Mono',consolas,'Courier New',monospace\"><span style=\"font-weight: bold\"> Non-trainable params: </span><span style=\"color: #00af00; text-decoration-color: #00af00\">0</span> (0.00 B)\n",
       "</pre>\n"
      ],
      "text/plain": [
       "\u001b[1m Non-trainable params: \u001b[0m\u001b[38;5;34m0\u001b[0m (0.00 B)\n"
      ]
     },
     "metadata": {},
     "output_type": "display_data"
    },
    {
     "name": "stdout",
     "output_type": "stream",
     "text": [
      "Epoch 1/100\n",
      "\u001b[1m19/19\u001b[0m \u001b[32m━━━━━━━━━━━━━━━━━━━━\u001b[0m\u001b[37m\u001b[0m \u001b[1m2s\u001b[0m 41ms/step - loss: 1.9189 - mae: 1.9189 - mse: 5.2328 - r2_metric: -2258.5637 - val_loss: 0.4964 - val_mae: 0.4964 - val_mse: 0.4709 - val_r2_metric: -140.7040 - learning_rate: 0.0010\n",
      "Epoch 2/100\n",
      "\u001b[1m19/19\u001b[0m \u001b[32m━━━━━━━━━━━━━━━━━━━━\u001b[0m\u001b[37m\u001b[0m \u001b[1m1s\u001b[0m 27ms/step - loss: 0.5417 - mae: 0.5417 - mse: 0.5259 - r2_metric: -202.7260 - val_loss: 0.5364 - val_mae: 0.5364 - val_mse: 0.4358 - val_r2_metric: -171.0591 - learning_rate: 0.0010\n",
      "Epoch 3/100\n",
      "\u001b[1m19/19\u001b[0m \u001b[32m━━━━━━━━━━━━━━━━━━━━\u001b[0m\u001b[37m\u001b[0m \u001b[1m1s\u001b[0m 29ms/step - loss: 0.3953 - mae: 0.3953 - mse: 0.2846 - r2_metric: -111.2747 - val_loss: 0.4256 - val_mae: 0.4256 - val_mse: 0.3559 - val_r2_metric: -109.9389 - learning_rate: 0.0010\n",
      "Epoch 4/100\n",
      "\u001b[1m19/19\u001b[0m \u001b[32m━━━━━━━━━━━━━━━━━━━━\u001b[0m\u001b[37m\u001b[0m \u001b[1m1s\u001b[0m 35ms/step - loss: 0.3327 - mae: 0.3327 - mse: 0.2212 - r2_metric: -85.8979 - val_loss: 0.3870 - val_mae: 0.3870 - val_mse: 0.2977 - val_r2_metric: -97.7717 - learning_rate: 0.0010\n",
      "Epoch 5/100\n",
      "\u001b[1m19/19\u001b[0m \u001b[32m━━━━━━━━━━━━━━━━━━━━\u001b[0m\u001b[37m\u001b[0m \u001b[1m1s\u001b[0m 33ms/step - loss: 0.3084 - mae: 0.3084 - mse: 0.2015 - r2_metric: -77.6460 - val_loss: 0.4505 - val_mae: 0.4505 - val_mse: 0.3196 - val_r2_metric: -118.4681 - learning_rate: 0.0010\n",
      "Epoch 6/100\n",
      "\u001b[1m19/19\u001b[0m \u001b[32m━━━━━━━━━━━━━━━━━━━━\u001b[0m\u001b[37m\u001b[0m \u001b[1m1s\u001b[0m 29ms/step - loss: 0.3108 - mae: 0.3108 - mse: 0.1939 - r2_metric: -76.1251 - val_loss: 0.3852 - val_mae: 0.3852 - val_mse: 0.2803 - val_r2_metric: -94.8566 - learning_rate: 0.0010\n",
      "Epoch 7/100\n",
      "\u001b[1m19/19\u001b[0m \u001b[32m━━━━━━━━━━━━━━━━━━━━\u001b[0m\u001b[37m\u001b[0m \u001b[1m1s\u001b[0m 29ms/step - loss: 0.3028 - mae: 0.3028 - mse: 0.1946 - r2_metric: -74.6620 - val_loss: 0.3729 - val_mae: 0.3729 - val_mse: 0.2778 - val_r2_metric: -90.7071 - learning_rate: 0.0010\n",
      "Epoch 8/100\n",
      "\u001b[1m19/19\u001b[0m \u001b[32m━━━━━━━━━━━━━━━━━━━━\u001b[0m\u001b[37m\u001b[0m \u001b[1m1s\u001b[0m 34ms/step - loss: 0.2941 - mae: 0.2941 - mse: 0.1871 - r2_metric: -73.9700 - val_loss: 0.3723 - val_mae: 0.3723 - val_mse: 0.2740 - val_r2_metric: -90.4776 - learning_rate: 0.0010\n",
      "Epoch 9/100\n",
      "\u001b[1m19/19\u001b[0m \u001b[32m━━━━━━━━━━━━━━━━━━━━\u001b[0m\u001b[37m\u001b[0m \u001b[1m1s\u001b[0m 32ms/step - loss: 0.2900 - mae: 0.2900 - mse: 0.1823 - r2_metric: -72.6979 - val_loss: 0.3609 - val_mae: 0.3609 - val_mse: 0.2677 - val_r2_metric: -86.3739 - learning_rate: 0.0010\n",
      "Epoch 10/100\n",
      "\u001b[1m19/19\u001b[0m \u001b[32m━━━━━━━━━━━━━━━━━━━━\u001b[0m\u001b[37m\u001b[0m \u001b[1m1s\u001b[0m 32ms/step - loss: 0.2856 - mae: 0.2856 - mse: 0.1814 - r2_metric: -70.3507 - val_loss: 0.3801 - val_mae: 0.3801 - val_mse: 0.2636 - val_r2_metric: -91.1784 - learning_rate: 0.0010\n",
      "Epoch 11/100\n",
      "\u001b[1m19/19\u001b[0m \u001b[32m━━━━━━━━━━━━━━━━━━━━\u001b[0m\u001b[37m\u001b[0m \u001b[1m1s\u001b[0m 29ms/step - loss: 0.3123 - mae: 0.3123 - mse: 0.1936 - r2_metric: -77.2563 - val_loss: 0.3537 - val_mae: 0.3537 - val_mse: 0.2720 - val_r2_metric: -84.9846 - learning_rate: 0.0010\n",
      "Epoch 12/100\n",
      "\u001b[1m19/19\u001b[0m \u001b[32m━━━━━━━━━━━━━━━━━━━━\u001b[0m\u001b[37m\u001b[0m \u001b[1m1s\u001b[0m 28ms/step - loss: 0.2880 - mae: 0.2880 - mse: 0.1793 - r2_metric: -71.2205 - val_loss: 0.4208 - val_mae: 0.4208 - val_mse: 0.3763 - val_r2_metric: -111.8056 - learning_rate: 0.0010\n",
      "Epoch 13/100\n",
      "\u001b[1m19/19\u001b[0m \u001b[32m━━━━━━━━━━━━━━━━━━━━\u001b[0m\u001b[37m\u001b[0m \u001b[1m1s\u001b[0m 31ms/step - loss: 0.2998 - mae: 0.2998 - mse: 0.1952 - r2_metric: -75.8515 - val_loss: 0.3777 - val_mae: 0.3777 - val_mse: 0.2565 - val_r2_metric: -88.0166 - learning_rate: 0.0010\n",
      "Epoch 14/100\n",
      "\u001b[1m19/19\u001b[0m \u001b[32m━━━━━━━━━━━━━━━━━━━━\u001b[0m\u001b[37m\u001b[0m \u001b[1m1s\u001b[0m 29ms/step - loss: 0.3048 - mae: 0.3048 - mse: 0.1883 - r2_metric: -76.3666 - val_loss: 0.3865 - val_mae: 0.3865 - val_mse: 0.2591 - val_r2_metric: -89.7716 - learning_rate: 0.0010\n",
      "Epoch 15/100\n",
      "\u001b[1m19/19\u001b[0m \u001b[32m━━━━━━━━━━━━━━━━━━━━\u001b[0m\u001b[37m\u001b[0m \u001b[1m1s\u001b[0m 30ms/step - loss: 0.2966 - mae: 0.2966 - mse: 0.1883 - r2_metric: -73.8261 - val_loss: 0.3496 - val_mae: 0.3496 - val_mse: 0.2442 - val_r2_metric: -79.4013 - learning_rate: 0.0010\n",
      "Epoch 16/100\n",
      "\u001b[1m19/19\u001b[0m \u001b[32m━━━━━━━━━━━━━━━━━━━━\u001b[0m\u001b[37m\u001b[0m \u001b[1m1s\u001b[0m 31ms/step - loss: 0.2964 - mae: 0.2964 - mse: 0.1890 - r2_metric: -73.1815 - val_loss: 0.3337 - val_mae: 0.3337 - val_mse: 0.2553 - val_r2_metric: -79.0043 - learning_rate: 0.0010\n",
      "Epoch 17/100\n",
      "\u001b[1m19/19\u001b[0m \u001b[32m━━━━━━━━━━━━━━━━━━━━\u001b[0m\u001b[37m\u001b[0m \u001b[1m1s\u001b[0m 27ms/step - loss: 0.2963 - mae: 0.2963 - mse: 0.1877 - r2_metric: -74.1773 - val_loss: 0.3389 - val_mae: 0.3389 - val_mse: 0.2461 - val_r2_metric: -78.2763 - learning_rate: 0.0010\n",
      "Epoch 18/100\n",
      "\u001b[1m19/19\u001b[0m \u001b[32m━━━━━━━━━━━━━━━━━━━━\u001b[0m\u001b[37m\u001b[0m \u001b[1m1s\u001b[0m 27ms/step - loss: 0.2798 - mae: 0.2798 - mse: 0.1719 - r2_metric: -69.5926 - val_loss: 0.3409 - val_mae: 0.3409 - val_mse: 0.2653 - val_r2_metric: -81.3616 - learning_rate: 0.0010\n",
      "Epoch 19/100\n",
      "\u001b[1m19/19\u001b[0m \u001b[32m━━━━━━━━━━━━━━━━━━━━\u001b[0m\u001b[37m\u001b[0m \u001b[1m1s\u001b[0m 27ms/step - loss: 0.3152 - mae: 0.3152 - mse: 0.2044 - r2_metric: -81.1126 - val_loss: 0.3358 - val_mae: 0.3358 - val_mse: 0.2448 - val_r2_metric: -77.0961 - learning_rate: 0.0010\n",
      "Epoch 20/100\n",
      "\u001b[1m19/19\u001b[0m \u001b[32m━━━━━━━━━━━━━━━━━━━━\u001b[0m\u001b[37m\u001b[0m \u001b[1m1s\u001b[0m 27ms/step - loss: 0.2837 - mae: 0.2837 - mse: 0.1769 - r2_metric: -71.7220 - val_loss: 0.3356 - val_mae: 0.3356 - val_mse: 0.2585 - val_r2_metric: -79.3745 - learning_rate: 0.0010\n",
      "Epoch 21/100\n",
      "\u001b[1m19/19\u001b[0m \u001b[32m━━━━━━━━━━━━━━━━━━━━\u001b[0m\u001b[37m\u001b[0m \u001b[1m1s\u001b[0m 28ms/step - loss: 0.2846 - mae: 0.2846 - mse: 0.1776 - r2_metric: -71.5203 - val_loss: 0.3531 - val_mae: 0.3531 - val_mse: 0.2908 - val_r2_metric: -87.5938 - learning_rate: 0.0010\n",
      "Epoch 22/100\n",
      "\u001b[1m19/19\u001b[0m \u001b[32m━━━━━━━━━━━━━━━━━━━━\u001b[0m\u001b[37m\u001b[0m \u001b[1m1s\u001b[0m 27ms/step - loss: 0.2957 - mae: 0.2957 - mse: 0.1896 - r2_metric: -74.7901 - val_loss: 0.3698 - val_mae: 0.3698 - val_mse: 0.2395 - val_r2_metric: -81.8970 - learning_rate: 0.0010\n",
      "Epoch 23/100\n",
      "\u001b[1m19/19\u001b[0m \u001b[32m━━━━━━━━━━━━━━━━━━━━\u001b[0m\u001b[37m\u001b[0m \u001b[1m1s\u001b[0m 30ms/step - loss: 0.2821 - mae: 0.2821 - mse: 0.1763 - r2_metric: -71.0774 - val_loss: 0.3254 - val_mae: 0.3254 - val_mse: 0.2433 - val_r2_metric: -75.7803 - learning_rate: 5.0000e-04\n",
      "Epoch 24/100\n",
      "\u001b[1m19/19\u001b[0m \u001b[32m━━━━━━━━━━━━━━━━━━━━\u001b[0m\u001b[37m\u001b[0m \u001b[1m1s\u001b[0m 28ms/step - loss: 0.2805 - mae: 0.2805 - mse: 0.1730 - r2_metric: -70.4782 - val_loss: 0.3612 - val_mae: 0.3612 - val_mse: 0.2356 - val_r2_metric: -79.5327 - learning_rate: 5.0000e-04\n",
      "Epoch 25/100\n",
      "\u001b[1m19/19\u001b[0m \u001b[32m━━━━━━━━━━━━━━━━━━━━\u001b[0m\u001b[37m\u001b[0m \u001b[1m1s\u001b[0m 28ms/step - loss: 0.2837 - mae: 0.2837 - mse: 0.1746 - r2_metric: -70.4476 - val_loss: 0.3271 - val_mae: 0.3271 - val_mse: 0.2390 - val_r2_metric: -74.9455 - learning_rate: 5.0000e-04\n",
      "Epoch 26/100\n",
      "\u001b[1m19/19\u001b[0m \u001b[32m━━━━━━━━━━━━━━━━━━━━\u001b[0m\u001b[37m\u001b[0m \u001b[1m1s\u001b[0m 27ms/step - loss: 0.2771 - mae: 0.2771 - mse: 0.1727 - r2_metric: -69.0362 - val_loss: 0.3290 - val_mae: 0.3290 - val_mse: 0.2545 - val_r2_metric: -78.0319 - learning_rate: 5.0000e-04\n",
      "Epoch 27/100\n",
      "\u001b[1m19/19\u001b[0m \u001b[32m━━━━━━━━━━━━━━━━━━━━\u001b[0m\u001b[37m\u001b[0m \u001b[1m1s\u001b[0m 27ms/step - loss: 0.2810 - mae: 0.2810 - mse: 0.1751 - r2_metric: -70.4515 - val_loss: 0.3536 - val_mae: 0.3536 - val_mse: 0.2322 - val_r2_metric: -77.4099 - learning_rate: 5.0000e-04\n",
      "Epoch 28/100\n",
      "\u001b[1m19/19\u001b[0m \u001b[32m━━━━━━━━━━━━━━━━━━━━\u001b[0m\u001b[37m\u001b[0m \u001b[1m1s\u001b[0m 27ms/step - loss: 0.2878 - mae: 0.2878 - mse: 0.1730 - r2_metric: -70.3088 - val_loss: 0.3311 - val_mae: 0.3311 - val_mse: 0.2610 - val_r2_metric: -79.6491 - learning_rate: 5.0000e-04\n",
      "Epoch 29/100\n",
      "\u001b[1m19/19\u001b[0m \u001b[32m━━━━━━━━━━━━━━━━━━━━\u001b[0m\u001b[37m\u001b[0m \u001b[1m1s\u001b[0m 27ms/step - loss: 0.2820 - mae: 0.2820 - mse: 0.1783 - r2_metric: -70.9870 - val_loss: 0.3284 - val_mae: 0.3284 - val_mse: 0.2300 - val_r2_metric: -73.3168 - learning_rate: 5.0000e-04\n",
      "Epoch 30/100\n",
      "\u001b[1m19/19\u001b[0m \u001b[32m━━━━━━━━━━━━━━━━━━━━\u001b[0m\u001b[37m\u001b[0m \u001b[1m1s\u001b[0m 29ms/step - loss: 0.2738 - mae: 0.2738 - mse: 0.1695 - r2_metric: -68.2192 - val_loss: 0.3229 - val_mae: 0.3229 - val_mse: 0.2377 - val_r2_metric: -74.2475 - learning_rate: 2.5000e-04\n",
      "Epoch 31/100\n",
      "\u001b[1m19/19\u001b[0m \u001b[32m━━━━━━━━━━━━━━━━━━━━\u001b[0m\u001b[37m\u001b[0m \u001b[1m1s\u001b[0m 27ms/step - loss: 0.2803 - mae: 0.2803 - mse: 0.1777 - r2_metric: -70.9535 - val_loss: 0.3247 - val_mae: 0.3247 - val_mse: 0.2353 - val_r2_metric: -73.9114 - learning_rate: 2.5000e-04\n",
      "Epoch 32/100\n",
      "\u001b[1m19/19\u001b[0m \u001b[32m━━━━━━━━━━━━━━━━━━━━\u001b[0m\u001b[37m\u001b[0m \u001b[1m1s\u001b[0m 27ms/step - loss: 0.2761 - mae: 0.2761 - mse: 0.1663 - r2_metric: -67.9465 - val_loss: 0.3255 - val_mae: 0.3255 - val_mse: 0.2327 - val_r2_metric: -73.5277 - learning_rate: 2.5000e-04\n",
      "Epoch 33/100\n",
      "\u001b[1m19/19\u001b[0m \u001b[32m━━━━━━━━━━━━━━━━━━━━\u001b[0m\u001b[37m\u001b[0m \u001b[1m1s\u001b[0m 28ms/step - loss: 0.2714 - mae: 0.2714 - mse: 0.1701 - r2_metric: -68.9129 - val_loss: 0.3260 - val_mae: 0.3260 - val_mse: 0.2328 - val_r2_metric: -73.5909 - learning_rate: 2.5000e-04\n",
      "Epoch 34/100\n",
      "\u001b[1m19/19\u001b[0m \u001b[32m━━━━━━━━━━━━━━━━━━━━\u001b[0m\u001b[37m\u001b[0m \u001b[1m1s\u001b[0m 28ms/step - loss: 0.2718 - mae: 0.2718 - mse: 0.1707 - r2_metric: -69.2893 - val_loss: 0.3291 - val_mae: 0.3291 - val_mse: 0.2289 - val_r2_metric: -73.2741 - learning_rate: 2.5000e-04\n",
      "Epoch 35/100\n",
      "\u001b[1m19/19\u001b[0m \u001b[32m━━━━━━━━━━━━━━━━━━━━\u001b[0m\u001b[37m\u001b[0m \u001b[1m1s\u001b[0m 28ms/step - loss: 0.2711 - mae: 0.2711 - mse: 0.1688 - r2_metric: -69.3767 - val_loss: 0.3393 - val_mae: 0.3393 - val_mse: 0.2280 - val_r2_metric: -74.5410 - learning_rate: 2.5000e-04\n",
      "Epoch 36/100\n",
      "\u001b[1m19/19\u001b[0m \u001b[32m━━━━━━━━━━━━━━━━━━━━\u001b[0m\u001b[37m\u001b[0m \u001b[1m1s\u001b[0m 27ms/step - loss: 0.2721 - mae: 0.2721 - mse: 0.1683 - r2_metric: -68.4931 - val_loss: 0.3223 - val_mae: 0.3223 - val_mse: 0.2359 - val_r2_metric: -73.7980 - learning_rate: 2.5000e-04\n",
      "Epoch 37/100\n",
      "\u001b[1m19/19\u001b[0m \u001b[32m━━━━━━━━━━━━━━━━━━━━\u001b[0m\u001b[37m\u001b[0m \u001b[1m1s\u001b[0m 26ms/step - loss: 0.2720 - mae: 0.2720 - mse: 0.1693 - r2_metric: -70.1179 - val_loss: 0.3237 - val_mae: 0.3237 - val_mse: 0.2308 - val_r2_metric: -72.8016 - learning_rate: 2.5000e-04\n",
      "Epoch 38/100\n",
      "\u001b[1m19/19\u001b[0m \u001b[32m━━━━━━━━━━━━━━━━━━━━\u001b[0m\u001b[37m\u001b[0m \u001b[1m1s\u001b[0m 27ms/step - loss: 0.2718 - mae: 0.2718 - mse: 0.1730 - r2_metric: -70.9274 - val_loss: 0.3818 - val_mae: 0.3818 - val_mse: 0.2425 - val_r2_metric: -83.4239 - learning_rate: 2.5000e-04\n",
      "Epoch 39/100\n",
      "\u001b[1m19/19\u001b[0m \u001b[32m━━━━━━━━━━━━━━━━━━━━\u001b[0m\u001b[37m\u001b[0m \u001b[1m1s\u001b[0m 29ms/step - loss: 0.2758 - mae: 0.2758 - mse: 0.1691 - r2_metric: -69.9982 - val_loss: 0.3207 - val_mae: 0.3207 - val_mse: 0.2340 - val_r2_metric: -73.0744 - learning_rate: 2.5000e-04\n",
      "Epoch 40/100\n",
      "\u001b[1m19/19\u001b[0m \u001b[32m━━━━━━━━━━━━━━━━━━━━\u001b[0m\u001b[37m\u001b[0m \u001b[1m1s\u001b[0m 29ms/step - loss: 0.2802 - mae: 0.2802 - mse: 0.1813 - r2_metric: -73.6065 - val_loss: 0.3252 - val_mae: 0.3252 - val_mse: 0.2538 - val_r2_metric: -77.5982 - learning_rate: 2.5000e-04\n",
      "Epoch 41/100\n",
      "\u001b[1m19/19\u001b[0m \u001b[32m━━━━━━━━━━━━━━━━━━━━\u001b[0m\u001b[37m\u001b[0m \u001b[1m1s\u001b[0m 28ms/step - loss: 0.2789 - mae: 0.2789 - mse: 0.1729 - r2_metric: -70.4198 - val_loss: 0.3358 - val_mae: 0.3358 - val_mse: 0.2255 - val_r2_metric: -73.2921 - learning_rate: 2.5000e-04\n",
      "Epoch 42/100\n",
      "\u001b[1m19/19\u001b[0m \u001b[32m━━━━━━━━━━━━━━━━━━━━\u001b[0m\u001b[37m\u001b[0m \u001b[1m1s\u001b[0m 28ms/step - loss: 0.2721 - mae: 0.2721 - mse: 0.1685 - r2_metric: -69.4485 - val_loss: 0.3230 - val_mae: 0.3230 - val_mse: 0.2302 - val_r2_metric: -72.6134 - learning_rate: 2.5000e-04\n",
      "Epoch 43/100\n",
      "\u001b[1m19/19\u001b[0m \u001b[32m━━━━━━━━━━━━━━━━━━━━\u001b[0m\u001b[37m\u001b[0m \u001b[1m1s\u001b[0m 28ms/step - loss: 0.2704 - mae: 0.2704 - mse: 0.1670 - r2_metric: -69.0449 - val_loss: 0.3226 - val_mae: 0.3226 - val_mse: 0.2293 - val_r2_metric: -72.2752 - learning_rate: 2.5000e-04\n",
      "Epoch 44/100\n",
      "\u001b[1m19/19\u001b[0m \u001b[32m━━━━━━━━━━━━━━━━━━━━\u001b[0m\u001b[37m\u001b[0m \u001b[1m1s\u001b[0m 28ms/step - loss: 0.2703 - mae: 0.2703 - mse: 0.1693 - r2_metric: -69.9377 - val_loss: 0.3222 - val_mae: 0.3222 - val_mse: 0.2291 - val_r2_metric: -72.1654 - learning_rate: 2.5000e-04\n",
      "Epoch 45/100\n",
      "\u001b[1m19/19\u001b[0m \u001b[32m━━━━━━━━━━━━━━━━━━━━\u001b[0m\u001b[37m\u001b[0m \u001b[1m1s\u001b[0m 27ms/step - loss: 0.2704 - mae: 0.2704 - mse: 0.1711 - r2_metric: -70.3164 - val_loss: 0.3266 - val_mae: 0.3266 - val_mse: 0.2250 - val_r2_metric: -71.8768 - learning_rate: 2.5000e-04\n",
      "Epoch 46/100\n",
      "\u001b[1m19/19\u001b[0m \u001b[32m━━━━━━━━━━━━━━━━━━━━\u001b[0m\u001b[37m\u001b[0m \u001b[1m1s\u001b[0m 27ms/step - loss: 0.2744 - mae: 0.2744 - mse: 0.1678 - r2_metric: -69.7327 - val_loss: 0.3229 - val_mae: 0.3229 - val_mse: 0.2280 - val_r2_metric: -72.0100 - learning_rate: 1.2500e-04\n",
      "Epoch 47/100\n",
      "\u001b[1m19/19\u001b[0m \u001b[32m━━━━━━━━━━━━━━━━━━━━\u001b[0m\u001b[37m\u001b[0m \u001b[1m1s\u001b[0m 27ms/step - loss: 0.2714 - mae: 0.2714 - mse: 0.1690 - r2_metric: -69.9189 - val_loss: 0.3368 - val_mae: 0.3368 - val_mse: 0.2241 - val_r2_metric: -72.9560 - learning_rate: 1.2500e-04\n",
      "Epoch 48/100\n",
      "\u001b[1m19/19\u001b[0m \u001b[32m━━━━━━━━━━━━━━━━━━━━\u001b[0m\u001b[37m\u001b[0m \u001b[1m1s\u001b[0m 29ms/step - loss: 0.2737 - mae: 0.2737 - mse: 0.1700 - r2_metric: -70.6293 - val_loss: 0.3360 - val_mae: 0.3360 - val_mse: 0.2239 - val_r2_metric: -72.8104 - learning_rate: 1.2500e-04\n",
      "Epoch 49/100\n",
      "\u001b[1m19/19\u001b[0m \u001b[32m━━━━━━━━━━━━━━━━━━━━\u001b[0m\u001b[37m\u001b[0m \u001b[1m0s\u001b[0m 26ms/step - loss: 0.2705 - mae: 0.2705 - mse: 0.1696 - r2_metric: -70.1201 - val_loss: 0.3275 - val_mae: 0.3275 - val_mse: 0.2239 - val_r2_metric: -71.7455 - learning_rate: 1.2500e-04\n",
      "Epoch 50/100\n",
      "\u001b[1m19/19\u001b[0m \u001b[32m━━━━━━━━━━━━━━━━━━━━\u001b[0m\u001b[37m\u001b[0m \u001b[1m1s\u001b[0m 26ms/step - loss: 0.2691 - mae: 0.2691 - mse: 0.1688 - r2_metric: -69.5167 - val_loss: 0.3244 - val_mae: 0.3244 - val_mse: 0.2252 - val_r2_metric: -71.5681 - learning_rate: 1.2500e-04\n",
      "Epoch 51/100\n",
      "\u001b[1m19/19\u001b[0m \u001b[32m━━━━━━━━━━━━━━━━━━━━\u001b[0m\u001b[37m\u001b[0m \u001b[1m1s\u001b[0m 27ms/step - loss: 0.2692 - mae: 0.2692 - mse: 0.1688 - r2_metric: -69.8425 - val_loss: 0.3225 - val_mae: 0.3225 - val_mse: 0.2256 - val_r2_metric: -71.4514 - learning_rate: 1.2500e-04\n"
     ]
    },
    {
     "data": {
      "image/png": "[encoded data removed]",
      "text/plain": [
       "<Figure size 600x400 with 1 Axes>"
      ]
     },
     "metadata": {},
     "output_type": "display_data"
    },
    {
     "name": "stdout",
     "output_type": "stream",
     "text": [
      "Test metrics: {'loss': 0.3892689347267151, 'mae': 0.3892689347267151, 'mse': 0.2860986590385437, 'r2_metric': -115.64459991455078}\n"
     ]
    }
   ],
   "source": [
    "import sys, importlib, shutil, pathlib\n",
    "\n",
    "# ensure project root is first on sys.path (parent of 'models')\n",
    "from pathlib import Path\n",
    "NOTEBOOK_DIR = Path().resolve()\n",
    "PROJECT_ROOT = NOTEBOOK_DIR if (NOTEBOOK_DIR / \"models\" / \"cnn\").exists() else NOTEBOOK_DIR.parent\n",
    "sys.path.insert(0, str(PROJECT_ROOT))\n",
    "\n",
    "# remove pycache\n",
    "shutil.rmtree(Path(\"models/cnn/__pycache__\"), ignore_errors=True)\n",
    "# drop cached modules\n",
    "for mod in [\"models.cnn.utils\", \"models.cnn.train\"]:\n",
    "    sys.modules.pop(mod, None)\n",
    "\n",
    "import models.cnn.utils as u\n",
    "importlib.reload(u)\n",
    "print(\"utils has:\", [n for n in (\"ensure_dir\",\"plot_learning_curves\") if hasattr(u, n)])\n",
    "\n",
    "import models.cnn.train as t\n",
    "importlib.reload(t)\n",
    "from models.cnn.train import main as train_main\n",
    "\n",
    "train_main()\n"
   ]
  }
 ],
 "metadata": {
  "kernelspec": {
   "display_name": "seismic-gnn",
   "language": "python",
   "name": "python3"
  },
  "language_info": {
   "codemirror_mode": {
    "name": "ipython",
    "version": 3
   },
   "file_extension": ".py",
   "mimetype": "text/x-python",
   "name": "python",
   "nbconvert_exporter": "python",
   "pygments_lexer": "ipython3",
   "version": "3.11.13"
  }
 },
 "nbformat": 4,
 "nbformat_minor": 5
}
